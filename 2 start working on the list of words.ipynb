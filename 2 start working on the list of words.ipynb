{
 "cells": [
  {
   "cell_type": "code",
   "execution_count": 60,
   "metadata": {
    "collapsed": false
   },
   "outputs": [],
   "source": [
    "%matplotlib inline\n",
    "import nltk\n",
    "from nltk.book import *"
   ]
  },
  {
   "cell_type": "code",
   "execution_count": 35,
   "metadata": {
    "collapsed": true
   },
   "outputs": [],
   "source": [
    "#make a repeative function to work on the cells i just typed\n",
    "def lexical_diversity(text):\n",
    "    return len(set(text)) / len(text) \n",
    "def percentage(count, total):\n",
    "    return 100*count/total"
   ]
  },
  {
   "cell_type": "code",
   "execution_count": 36,
   "metadata": {
    "collapsed": false
   },
   "outputs": [
    {
     "data": {
      "text/plain": [
       "['Call', 'me', 'Ishmael', '.']"
      ]
     },
     "execution_count": 36,
     "metadata": {},
     "output_type": "execute_result"
    }
   ],
   "source": [
    "sent1"
   ]
  },
  {
   "cell_type": "code",
   "execution_count": 37,
   "metadata": {
    "collapsed": false
   },
   "outputs": [],
   "source": [
    "work = ['call','me','Jeffery','.']"
   ]
  },
  {
   "cell_type": "code",
   "execution_count": 38,
   "metadata": {
    "collapsed": false
   },
   "outputs": [
    {
     "data": {
      "text/plain": [
       "['call', 'me', 'Jeffery', '.']"
      ]
     },
     "execution_count": 38,
     "metadata": {},
     "output_type": "execute_result"
    }
   ],
   "source": [
    "work"
   ]
  },
  {
   "cell_type": "code",
   "execution_count": 39,
   "metadata": {
    "collapsed": false
   },
   "outputs": [
    {
     "data": {
      "text/plain": [
       "4"
      ]
     },
     "execution_count": 39,
     "metadata": {},
     "output_type": "execute_result"
    }
   ],
   "source": [
    "len(work)"
   ]
  },
  {
   "cell_type": "code",
   "execution_count": 40,
   "metadata": {
    "collapsed": false
   },
   "outputs": [
    {
     "data": {
      "text/plain": [
       "1.0"
      ]
     },
     "execution_count": 40,
     "metadata": {},
     "output_type": "execute_result"
    }
   ],
   "source": [
    "lexical_diversity(work)"
   ]
  },
  {
   "cell_type": "code",
   "execution_count": 41,
   "metadata": {
    "collapsed": true
   },
   "outputs": [],
   "source": [
    "name = 'Jeffery'"
   ]
  },
  {
   "cell_type": "code",
   "execution_count": 42,
   "metadata": {
    "collapsed": false
   },
   "outputs": [
    {
     "data": {
      "text/plain": [
       "'JefferyJeffery'"
      ]
     },
     "execution_count": 42,
     "metadata": {},
     "output_type": "execute_result"
    }
   ],
   "source": [
    "name*2"
   ]
  },
  {
   "cell_type": "code",
   "execution_count": 43,
   "metadata": {
    "collapsed": false
   },
   "outputs": [
    {
     "data": {
      "text/plain": [
       "'Jeffery!'"
      ]
     },
     "execution_count": 43,
     "metadata": {},
     "output_type": "execute_result"
    }
   ],
   "source": [
    "name+'!'"
   ]
  },
  {
   "cell_type": "code",
   "execution_count": 44,
   "metadata": {
    "collapsed": false
   },
   "outputs": [
    {
     "data": {
      "text/plain": [
       "'Jeffery Python'"
      ]
     },
     "execution_count": 44,
     "metadata": {},
     "output_type": "execute_result"
    }
   ],
   "source": [
    "temp = ''.join(['Jeffery',' Python'])\n",
    "temp"
   ]
  },
  {
   "cell_type": "code",
   "execution_count": 45,
   "metadata": {
    "collapsed": false
   },
   "outputs": [
    {
     "data": {
      "text/plain": [
       "['Jeffery', 'Python']"
      ]
     },
     "execution_count": 45,
     "metadata": {},
     "output_type": "execute_result"
    }
   ],
   "source": [
    "#has to have space or somthing in between\n",
    "temp.split()"
   ]
  },
  {
   "cell_type": "markdown",
   "metadata": {},
   "source": [
    "Here starts doing statistics with words"
   ]
  },
  {
   "cell_type": "code",
   "execution_count": 46,
   "metadata": {
    "collapsed": false
   },
   "outputs": [
    {
     "data": {
      "text/plain": [
       "['After',\n",
       " 'all',\n",
       " 'is',\n",
       " 'said',\n",
       " 'and',\n",
       " 'done',\n",
       " 'more',\n",
       " 'is',\n",
       " 'said',\n",
       " 'than',\n",
       " 'done']"
      ]
     },
     "execution_count": 46,
     "metadata": {},
     "output_type": "execute_result"
    }
   ],
   "source": [
    "saying = ['After', 'all', 'is', 'said', 'and', 'done',\n",
    "           'more', 'is', 'said', 'than', 'done']\n",
    "saying"
   ]
  },
  {
   "cell_type": "code",
   "execution_count": 47,
   "metadata": {
    "collapsed": false
   },
   "outputs": [
    {
     "data": {
      "text/plain": [
       "{'After', 'all', 'and', 'done', 'is', 'more', 'said', 'than'}"
      ]
     },
     "execution_count": 47,
     "metadata": {},
     "output_type": "execute_result"
    }
   ],
   "source": [
    "tokens = set(saying)\n",
    "tokens"
   ]
  },
  {
   "cell_type": "code",
   "execution_count": 48,
   "metadata": {
    "collapsed": false
   },
   "outputs": [
    {
     "data": {
      "text/plain": [
       "['After', 'all', 'and', 'done', 'is', 'more', 'said', 'than']"
      ]
     },
     "execution_count": 48,
     "metadata": {},
     "output_type": "execute_result"
    }
   ],
   "source": [
    "tokens = sorted(tokens)\n",
    "tokens"
   ]
  },
  {
   "cell_type": "code",
   "execution_count": 49,
   "metadata": {
    "collapsed": false
   },
   "outputs": [
    {
     "data": {
      "text/plain": [
       "['said', 'than']"
      ]
     },
     "execution_count": 49,
     "metadata": {},
     "output_type": "execute_result"
    }
   ],
   "source": [
    "tokens[-2:]"
   ]
  },
  {
   "cell_type": "code",
   "execution_count": 50,
   "metadata": {
    "collapsed": false
   },
   "outputs": [
    {
     "name": "stdout",
     "output_type": "stream",
     "text": [
      "<FreqDist with 19317 samples and 260819 outcomes>\n"
     ]
    }
   ],
   "source": [
    "fdist1 = FreqDist(text1)\n",
    "print(fdist1)"
   ]
  },
  {
   "cell_type": "code",
   "execution_count": 51,
   "metadata": {
    "collapsed": false,
    "scrolled": true
   },
   "outputs": [
    {
     "name": "stdout",
     "output_type": "stream",
     "text": [
      "[(',', 18713), ('the', 13721), ('.', 6862), ('of', 6536), ('and', 6024), ('a', 4569), ('to', 4542), (';', 4072), ('in', 3916), ('that', 2982), (\"'\", 2684), ('-', 2552), ('his', 2459), ('it', 2209), ('I', 2124), ('s', 1739), ('is', 1695), ('he', 1661), ('with', 1659), ('was', 1632), ('as', 1620), ('\"', 1478), ('all', 1462), ('for', 1414), ('this', 1280), ('!', 1269), ('at', 1231), ('by', 1137), ('but', 1113), ('not', 1103), ('--', 1070), ('him', 1058), ('from', 1052), ('be', 1030), ('on', 1005), ('so', 918), ('whale', 906), ('one', 889), ('you', 841), ('had', 767), ('have', 760), ('there', 715), ('But', 705), ('or', 697), ('were', 680), ('now', 646), ('which', 640), ('?', 637), ('me', 627), ('like', 624)]\n"
     ]
    }
   ],
   "source": [
    "print(fdist1.most_common(50))"
   ]
  },
  {
   "cell_type": "code",
   "execution_count": 52,
   "metadata": {
    "collapsed": false
   },
   "outputs": [
    {
     "name": "stdout",
     "output_type": "stream",
     "text": [
      "18713\n"
     ]
    }
   ],
   "source": [
    "print(fdist1[','])"
   ]
  },
  {
   "cell_type": "code",
   "execution_count": 53,
   "metadata": {
    "collapsed": false
   },
   "outputs": [
    {
     "data": {
      "image/png": "[encoded data removed]",
      "text/plain": [
       "<matplotlib.figure.Figure at 0x182d3012828>"
      ]
     },
     "metadata": {},
     "output_type": "display_data"
    }
   ],
   "source": [
    "fdist1.plot(50, cumulative=True)"
   ]
  },
  {
   "cell_type": "code",
   "execution_count": 54,
   "metadata": {
    "collapsed": true
   },
   "outputs": [
    {
     "data": {
      "text/plain": [
       "['Boone',\n",
       " 'shady',\n",
       " 'lethargy',\n",
       " 'dubiously',\n",
       " 'soothes',\n",
       " 'X',\n",
       " 'Put',\n",
       " 'victories',\n",
       " 'ripening',\n",
       " 'jalap',\n",
       " 'overcome',\n",
       " 'smokers',\n",
       " 'ditches',\n",
       " 'battened',\n",
       " 'japonicas',\n",
       " 'Mammoth',\n",
       " 'strawberries',\n",
       " 'sequential',\n",
       " 'mackerel',\n",
       " '1750',\n",
       " 'undecipherable',\n",
       " 'encasing',\n",
       " 'marge',\n",
       " 'Stood',\n",
       " 'spurrings',\n",
       " 'judgmatically',\n",
       " 'streaks',\n",
       " 'anxieties',\n",
       " 'overstrained',\n",
       " 'Carson',\n",
       " 'parm',\n",
       " 'Blanco',\n",
       " 'Crusaders',\n",
       " 'Smuggled',\n",
       " 'tremor',\n",
       " 'aorta',\n",
       " 'parenthesize',\n",
       " 'recluse',\n",
       " 'CLOSES',\n",
       " 'slaughtering',\n",
       " 'soften',\n",
       " 'upheaving',\n",
       " 'borrow',\n",
       " 'pitchpoled',\n",
       " 'Junk',\n",
       " 'analogical',\n",
       " 'lacks',\n",
       " 'behavior',\n",
       " 'remounting',\n",
       " 'fulfilment',\n",
       " 'manifest',\n",
       " 'vividly',\n",
       " 'astrological',\n",
       " 'Pott',\n",
       " 'negroes',\n",
       " 'panels',\n",
       " 'pelisse',\n",
       " 'Watery',\n",
       " 'petticoat',\n",
       " 'cambrics',\n",
       " 'GOETHE',\n",
       " 'Frenchmen',\n",
       " 'WHOEL',\n",
       " 'veined',\n",
       " 'emphatically',\n",
       " 'fulfiller',\n",
       " '5TH',\n",
       " 'thawed',\n",
       " 'ignoring',\n",
       " 'Britons',\n",
       " 'smuggling',\n",
       " 'halt',\n",
       " 'crowing',\n",
       " 'Saw',\n",
       " 'hootings',\n",
       " 'LIE',\n",
       " 'sultanically',\n",
       " 'Friend',\n",
       " 'DEBELL',\n",
       " 'squilgee',\n",
       " 'foothold',\n",
       " '134',\n",
       " '113',\n",
       " 'mentions',\n",
       " 'weakling',\n",
       " 'Dismal',\n",
       " 'wavingly',\n",
       " 'facility',\n",
       " 'WAS',\n",
       " 'complimentary',\n",
       " 'outbranching',\n",
       " 'outcries',\n",
       " 'seducing',\n",
       " 'voluntary',\n",
       " 'methods',\n",
       " '1779',\n",
       " 'ceremonial',\n",
       " 'legerdemain',\n",
       " 'colleges',\n",
       " 'gem',\n",
       " 'shallop',\n",
       " 'ministry',\n",
       " 'Gently',\n",
       " 'jostle',\n",
       " 'oneself',\n",
       " 'construct',\n",
       " '4TH',\n",
       " 'laceration',\n",
       " 'PROFANE',\n",
       " 'ungentlemanly',\n",
       " 'compassion',\n",
       " 'Drawing',\n",
       " 'Hill',\n",
       " 'crackled',\n",
       " 'foretell',\n",
       " 'knitted',\n",
       " 'JOB',\n",
       " 'intolerableness',\n",
       " 'disport',\n",
       " 'intensifying',\n",
       " 'Doctor',\n",
       " 'winks',\n",
       " 'unbelief',\n",
       " 'communicated',\n",
       " 'unaccustomed',\n",
       " 'Crew',\n",
       " 'chose',\n",
       " 'Ambergriese',\n",
       " 'cankerous',\n",
       " 'flush',\n",
       " 'Virgo',\n",
       " 'lashless',\n",
       " 'Borean',\n",
       " 'needful',\n",
       " 'uncompleted',\n",
       " 'lulls',\n",
       " 'furls',\n",
       " 'spreads',\n",
       " 'embarrassed',\n",
       " 'heated',\n",
       " 'Syracuse',\n",
       " 'Agassiz',\n",
       " 'irresolute',\n",
       " 'serfs',\n",
       " 'heinousness',\n",
       " 'axles',\n",
       " 'pedlar',\n",
       " 'rioting',\n",
       " 'frail',\n",
       " 'bodied',\n",
       " 'circumspectly',\n",
       " 'RESPECTABLE',\n",
       " 'chucks',\n",
       " 'Denderah',\n",
       " 'embarks',\n",
       " 'anoints',\n",
       " 'err',\n",
       " 'Cousin',\n",
       " 'vats',\n",
       " 'Morgana',\n",
       " 'applying',\n",
       " 'FORESAIL',\n",
       " 'paine',\n",
       " 'dorsal',\n",
       " 'undignified',\n",
       " 'mangrove',\n",
       " 'hares',\n",
       " 'ruined',\n",
       " 'characterizing',\n",
       " 'coating',\n",
       " 'se',\n",
       " 'adulterer',\n",
       " 'Around',\n",
       " 'retires',\n",
       " 'heedlessly',\n",
       " 'heath',\n",
       " 'Placing',\n",
       " 'Harmattans',\n",
       " 'prophecies',\n",
       " 'agrarian',\n",
       " 'mastications',\n",
       " 'grains',\n",
       " 'Titans',\n",
       " 'postponing',\n",
       " '1652',\n",
       " 'Buoyed',\n",
       " 'unflattering',\n",
       " 'drivers',\n",
       " 'affirms',\n",
       " 'Accursed',\n",
       " 'Fitz',\n",
       " 'lighten',\n",
       " 'gardenny',\n",
       " 'projections',\n",
       " 'ponderings',\n",
       " 'unsuspecting',\n",
       " 'foundered',\n",
       " 'logged',\n",
       " 'counteracted',\n",
       " 'Isaiah',\n",
       " 'seignories',\n",
       " 'bisons',\n",
       " 'fortunately',\n",
       " '26',\n",
       " 'liken',\n",
       " 'cipher',\n",
       " 'Forthwith',\n",
       " 'quivered',\n",
       " 'Unappalled',\n",
       " 'Hugest',\n",
       " 'Flat',\n",
       " 'Cockatoo',\n",
       " 'disgusted',\n",
       " 'predicted',\n",
       " 'pensive',\n",
       " 'efficiency',\n",
       " 'Grub',\n",
       " 'preparative',\n",
       " 'tacks',\n",
       " 'gown',\n",
       " 'slits',\n",
       " 'victoriously',\n",
       " 'spied',\n",
       " 'jawed',\n",
       " 'impotence',\n",
       " 'WINDOW',\n",
       " 'audible',\n",
       " 'motioning',\n",
       " 'timberheads',\n",
       " 'recollect',\n",
       " 'redeeming',\n",
       " 'bolstering',\n",
       " 'Helena',\n",
       " 'holders',\n",
       " 'plentiful',\n",
       " 'forsaken',\n",
       " 'weekly',\n",
       " 'Sikoke',\n",
       " 'plasters',\n",
       " 'corporal',\n",
       " 'banker',\n",
       " 'apportioned',\n",
       " 'imp',\n",
       " 'medicament',\n",
       " 'cohorts',\n",
       " 'preternaturalness',\n",
       " 'BARON',\n",
       " 'constituting',\n",
       " 'consult',\n",
       " 'collecting',\n",
       " 'farces',\n",
       " 'dissolve',\n",
       " 'Antwerp',\n",
       " '440',\n",
       " 'wedder',\n",
       " 'conquest',\n",
       " 'czarship',\n",
       " 'donning',\n",
       " 'Duodecimo',\n",
       " 'counties',\n",
       " 'tyrant',\n",
       " 'fix',\n",
       " 'Stowing',\n",
       " 'rains',\n",
       " 'prostration',\n",
       " 'filers',\n",
       " 'HELM',\n",
       " 'mutinying',\n",
       " 'intents',\n",
       " 'Find',\n",
       " 'bridals',\n",
       " 'determine',\n",
       " 'establishing',\n",
       " 'unmatched',\n",
       " 'price',\n",
       " 'litigated',\n",
       " 'raked',\n",
       " 'L150',\n",
       " 'swum',\n",
       " 'vagrant',\n",
       " 'mobbed',\n",
       " 'rayther',\n",
       " 'cobweb',\n",
       " 'mornings',\n",
       " 'corkscrewed',\n",
       " 'appropriate',\n",
       " 'monks',\n",
       " 'sugary',\n",
       " 'transpire',\n",
       " 'Labor',\n",
       " 'festivities',\n",
       " 'convey',\n",
       " 'twigging',\n",
       " 'menial',\n",
       " 'asunder',\n",
       " 'County',\n",
       " 'WINDLASS',\n",
       " 'declining',\n",
       " 'Belisarius',\n",
       " 'lightness',\n",
       " 'cockpits',\n",
       " 'rehearse',\n",
       " 'Gliding',\n",
       " 'badger',\n",
       " 'barriers',\n",
       " 'Naught',\n",
       " 'uncheered',\n",
       " 'thanks',\n",
       " 'regulating',\n",
       " 'ineffectual',\n",
       " 'madest',\n",
       " 'cannibalism',\n",
       " 'Leading',\n",
       " 'sipping',\n",
       " 'prolongings',\n",
       " 'Gentlemen',\n",
       " 'undecreasing',\n",
       " 'lasts',\n",
       " 'forethrown',\n",
       " 'beliest',\n",
       " 'literature',\n",
       " 'idiom',\n",
       " 'liturgies',\n",
       " 'panellings',\n",
       " 'tindering',\n",
       " 'blackish',\n",
       " 'nerve',\n",
       " 'athletic',\n",
       " 'completing',\n",
       " 'boasting',\n",
       " 'wilds',\n",
       " 'unfractioned',\n",
       " 'Caryatid',\n",
       " 'caressed',\n",
       " 'Thirdly',\n",
       " 'riotously',\n",
       " 'bumping',\n",
       " 'ejaculation',\n",
       " 'Despatch',\n",
       " 'pommel',\n",
       " 'soars',\n",
       " 'BURST',\n",
       " 'irksome',\n",
       " 'jury',\n",
       " 'Academy',\n",
       " 'dislocated',\n",
       " 'Uncommonly',\n",
       " 'magnanimity',\n",
       " 'CEASE',\n",
       " 'hearthstone',\n",
       " 'wooing',\n",
       " 'Albemarle',\n",
       " 'Breakfast',\n",
       " 'lawful',\n",
       " 'roomy',\n",
       " 'extras',\n",
       " 'FULLLER',\n",
       " 'besieged',\n",
       " 'Nail',\n",
       " 'rowlocks',\n",
       " 'slower',\n",
       " 'fetches',\n",
       " 'threatens',\n",
       " 'larders',\n",
       " 'enslaved',\n",
       " 'Whilst',\n",
       " 'conversant',\n",
       " 'Tunnel',\n",
       " 'Late',\n",
       " 'tray',\n",
       " 'defaced',\n",
       " 'HEREABOUTS',\n",
       " 'legatee',\n",
       " 'lens',\n",
       " 'rostrated',\n",
       " 'scarry',\n",
       " 'plugged',\n",
       " 'ripped',\n",
       " 'swoop',\n",
       " 'nestle',\n",
       " 'alternate',\n",
       " 'imperfectly',\n",
       " 'slice',\n",
       " 'reinforcement',\n",
       " 'Froissart',\n",
       " 'delegated',\n",
       " 'deduction',\n",
       " 'Needle',\n",
       " 'VEIN',\n",
       " 'successively',\n",
       " 'commons',\n",
       " 'hone',\n",
       " 'waxes',\n",
       " 'ledgers',\n",
       " 'auction',\n",
       " 'SURE',\n",
       " 'Kraken',\n",
       " 'honeycomb',\n",
       " 'Originally',\n",
       " 'reproach',\n",
       " 'detects',\n",
       " 'Jimmini',\n",
       " 'sovereignest',\n",
       " 'soothingly',\n",
       " 'repelled',\n",
       " 'maple',\n",
       " 'slogan',\n",
       " 'Milky',\n",
       " 'biased',\n",
       " '108',\n",
       " 'baptised',\n",
       " 'instituted',\n",
       " 'rouse',\n",
       " 'occult',\n",
       " 'Subs',\n",
       " '58',\n",
       " 'freckles',\n",
       " 'WHARTON',\n",
       " 'slanderin',\n",
       " 'nightly',\n",
       " 'wilted',\n",
       " 'begone',\n",
       " 'farings',\n",
       " 'ribboned',\n",
       " 'engineering',\n",
       " 'Rains',\n",
       " 'vanquished',\n",
       " 'Greenlandmen',\n",
       " 'cell',\n",
       " 'emetic',\n",
       " 'cosmopolite',\n",
       " 'Goldsmith',\n",
       " 'unconditionally',\n",
       " 'approaches',\n",
       " 'Availing',\n",
       " 'illness',\n",
       " 'Clay',\n",
       " 'attest',\n",
       " 'Cannibal',\n",
       " '14',\n",
       " 'marchings',\n",
       " 'foster',\n",
       " 'Issuing',\n",
       " 'VESSEL',\n",
       " 'exacted',\n",
       " 'askance',\n",
       " 'SISTER',\n",
       " 'LONDON',\n",
       " 'numbness',\n",
       " 'Immortal',\n",
       " 'verity',\n",
       " 'bigamist',\n",
       " 'Inlanders',\n",
       " 'Least',\n",
       " 'parallels',\n",
       " 'gospel',\n",
       " 'Pyrrho',\n",
       " 'wrung',\n",
       " 'GENERALLY',\n",
       " 'Musket',\n",
       " 'patris',\n",
       " 'LOUNGING',\n",
       " 'inferences',\n",
       " 'burgher',\n",
       " '1833',\n",
       " 'flambeaux',\n",
       " 'boxing',\n",
       " 'miss',\n",
       " 'deploy',\n",
       " 'gizzard',\n",
       " 'Becket',\n",
       " 'tiny',\n",
       " 'maiming',\n",
       " 'upbraiding',\n",
       " 'wasps',\n",
       " 'extinguishing',\n",
       " 'salute',\n",
       " 'retarded',\n",
       " 'stings',\n",
       " 'deceiving',\n",
       " 'effectual',\n",
       " 'illustrates',\n",
       " 'waxed',\n",
       " 'Pitferren',\n",
       " 'peals',\n",
       " 'methodization',\n",
       " 'filliping',\n",
       " 'thirteenth',\n",
       " 'Mazeppa',\n",
       " 'clinking',\n",
       " 'reluctantly',\n",
       " 'Gazette',\n",
       " 'breeching',\n",
       " 'affronted',\n",
       " 'muffling',\n",
       " 'EDGE',\n",
       " 'Methuselah',\n",
       " 'ingloriously',\n",
       " 'Painter',\n",
       " 'thrashing',\n",
       " 'vexatious',\n",
       " 'negatived',\n",
       " 'bellows',\n",
       " 'BOSOM',\n",
       " 'fenced',\n",
       " 'poop',\n",
       " 'emigrant',\n",
       " 'sweethearts',\n",
       " 'orphan',\n",
       " 'Muffled',\n",
       " 'reelingly',\n",
       " 'Perry',\n",
       " 'Petrified',\n",
       " 'Herein',\n",
       " 'gingerly',\n",
       " 'clings',\n",
       " 'couldst',\n",
       " 'hamstring',\n",
       " '115',\n",
       " 'invunerable',\n",
       " 'amain',\n",
       " 'vigor',\n",
       " 'merrily',\n",
       " 'Indiaman',\n",
       " 'Ka',\n",
       " 'hypo',\n",
       " 'competency',\n",
       " 'Andrew',\n",
       " 'expanses',\n",
       " 'topic',\n",
       " 'interweavingly',\n",
       " 'ESCAPED',\n",
       " 'whiff',\n",
       " 'emptying',\n",
       " 'pinned',\n",
       " 'triangles',\n",
       " 'ascriptions',\n",
       " 'outdone',\n",
       " 'unsettled',\n",
       " 'clamor',\n",
       " 'Cave',\n",
       " 'codfish',\n",
       " 'truthful',\n",
       " 'Witt',\n",
       " 'tubes',\n",
       " 'magnificence',\n",
       " 'debel',\n",
       " 'circuit',\n",
       " 'sashless',\n",
       " 'rotten',\n",
       " 'conflict',\n",
       " 'clever',\n",
       " 'BOUTON',\n",
       " 'housewives',\n",
       " 'healthily',\n",
       " 'wields',\n",
       " 'Dragged',\n",
       " 'subdivide',\n",
       " 'obsequious',\n",
       " 'Sirs',\n",
       " 'confessed',\n",
       " 'Weep',\n",
       " 'wery',\n",
       " 'ink',\n",
       " 'perspective',\n",
       " 'BIOGRAPHY',\n",
       " 'Achilles',\n",
       " '3d',\n",
       " 'records',\n",
       " 'impresses',\n",
       " 'maim',\n",
       " 'slantings',\n",
       " 'leaner',\n",
       " 'Inserting',\n",
       " 'jeeringly',\n",
       " 'rob',\n",
       " 'coined',\n",
       " 'trough',\n",
       " 'lucifer',\n",
       " 'dissolved',\n",
       " 'unmisgiving',\n",
       " 'wallows',\n",
       " 'Secretary',\n",
       " 'Polynesians',\n",
       " 'incrustations',\n",
       " 'piles',\n",
       " 'rummaged',\n",
       " 'Logan',\n",
       " 'unbecomingness',\n",
       " 'irreverence',\n",
       " 'oxygenated',\n",
       " 'waifed',\n",
       " 'irresolution',\n",
       " 'loungingly',\n",
       " 'Heave',\n",
       " 'scalping',\n",
       " 'Mab',\n",
       " 'protuberance',\n",
       " 'Biographical',\n",
       " 'ills',\n",
       " 'drills',\n",
       " 'fertility',\n",
       " 'tonic',\n",
       " 'impossibility',\n",
       " 'SPOUTING',\n",
       " 'Strength',\n",
       " 'topmaul',\n",
       " 'soliloquizer',\n",
       " 'outraged',\n",
       " 'shan',\n",
       " 'protruding',\n",
       " 'hermetically',\n",
       " 'Esau',\n",
       " 'climbed',\n",
       " 'vein',\n",
       " 'roughly',\n",
       " 'furrowed',\n",
       " 'westerly',\n",
       " 'sixpence',\n",
       " 'tongueless',\n",
       " 'developments',\n",
       " 'matured',\n",
       " 'Hoe',\n",
       " 'spiracles',\n",
       " 'rousing',\n",
       " 'contusions',\n",
       " 'Mt',\n",
       " 'besooted',\n",
       " 'foal',\n",
       " 'dimensioned',\n",
       " 'Aware',\n",
       " 'poly',\n",
       " 'phrensied',\n",
       " 'loop',\n",
       " 'Dover',\n",
       " 'refusing',\n",
       " 'unloitering',\n",
       " 'thoughtlessness',\n",
       " 'relapses',\n",
       " 'rowels',\n",
       " 'ceasing',\n",
       " 'observest',\n",
       " 'Pizarro',\n",
       " 'placard',\n",
       " 'Power',\n",
       " 'infected',\n",
       " 'nailest',\n",
       " 'cinnamon',\n",
       " 'resist',\n",
       " 'religionists',\n",
       " 'errantism',\n",
       " 'disks',\n",
       " 'administering',\n",
       " 'sooth',\n",
       " 'fourteen',\n",
       " 'approval',\n",
       " 'hypos',\n",
       " 'aspiring',\n",
       " 'cymballed',\n",
       " 'whets',\n",
       " 'merciless',\n",
       " 'sideway',\n",
       " 'ungraduated',\n",
       " 'brags',\n",
       " 'Civitas',\n",
       " 'OH',\n",
       " 'catacombs',\n",
       " 'CHACE',\n",
       " 'Champagne',\n",
       " 'robed',\n",
       " 'scant',\n",
       " 'abhorring',\n",
       " 'totality',\n",
       " 'pleasing',\n",
       " 'shinbone',\n",
       " 'Portugal',\n",
       " 'Pisces',\n",
       " 'Ahabs',\n",
       " 'heartlessness',\n",
       " 'butterless',\n",
       " 'outwardly',\n",
       " 'breezy',\n",
       " 'aboundingly',\n",
       " 'veal',\n",
       " 'Soloma',\n",
       " 'excludes',\n",
       " 'samphire',\n",
       " 'Seed',\n",
       " 'buttered',\n",
       " 'startlingly',\n",
       " 'cylinders',\n",
       " 'villain',\n",
       " 'unmarred',\n",
       " 'toasted',\n",
       " 'subservient',\n",
       " 'artificialness',\n",
       " 'blindfold',\n",
       " 'OATHS',\n",
       " 'bier',\n",
       " 'DAM',\n",
       " 'Partly',\n",
       " 'constrain',\n",
       " 'amputated',\n",
       " 'Bastille',\n",
       " 'gardening',\n",
       " 'guarded',\n",
       " 'HORIZONTAL',\n",
       " 'wrangling',\n",
       " 'tick',\n",
       " 'brilliance',\n",
       " 'relented',\n",
       " 'hooking',\n",
       " 'rubies',\n",
       " 'crumpled',\n",
       " 'Hurriedly',\n",
       " 'foie',\n",
       " 'disrated',\n",
       " 'hilarity',\n",
       " 'eddied',\n",
       " 'footfall',\n",
       " 'seconds',\n",
       " 'cheerfulness',\n",
       " 'brevity',\n",
       " 'sacramental',\n",
       " 'milkiness',\n",
       " 'flourishings',\n",
       " 'rabid',\n",
       " 'cutlet',\n",
       " 'passages',\n",
       " 'Boats',\n",
       " 'antagonistic',\n",
       " \"';\",\n",
       " 'Gilder',\n",
       " 'specialties',\n",
       " 'Volcano',\n",
       " 'REVELRY',\n",
       " 'irresponsible',\n",
       " 'kidnap',\n",
       " 'fadeless',\n",
       " 'symbols',\n",
       " 'lording',\n",
       " 'Tudors',\n",
       " 'twitching',\n",
       " 'ARE',\n",
       " 'counteracting',\n",
       " 'tauntingly',\n",
       " 'attenuated',\n",
       " 'undue',\n",
       " 'undertaker',\n",
       " 'thunderous',\n",
       " 'believers',\n",
       " 'lasses',\n",
       " 'HATCHWAY',\n",
       " 'discerns',\n",
       " 'incredibly',\n",
       " 'loon',\n",
       " 'behalf',\n",
       " 'pertained',\n",
       " 'Swim',\n",
       " 'Mysteriously',\n",
       " 'habituation',\n",
       " 'joins',\n",
       " 'differences',\n",
       " 'derisive',\n",
       " 'blisters',\n",
       " 'sartin',\n",
       " 'oversailed',\n",
       " 'collect',\n",
       " 'proclamation',\n",
       " 'Pompey',\n",
       " 'comported',\n",
       " 'averse',\n",
       " 'idiotic',\n",
       " 'repel',\n",
       " 'resisted',\n",
       " 'dampness',\n",
       " 'tape',\n",
       " 'Khan',\n",
       " 'spraining',\n",
       " 'Dissect',\n",
       " 'gallantly',\n",
       " 'crept',\n",
       " 'fadest',\n",
       " 'Leaning',\n",
       " 'gagged',\n",
       " 'adoption',\n",
       " 'salutes',\n",
       " 'Advocate',\n",
       " 'quarrelsome',\n",
       " 'invaders',\n",
       " 'daintiness',\n",
       " 'Blocksburg',\n",
       " 'chilly',\n",
       " 'scramble',\n",
       " 'unexhilarated',\n",
       " 'suck',\n",
       " 'Either',\n",
       " 'Euclid',\n",
       " 'probationary',\n",
       " 'Same',\n",
       " 'sports',\n",
       " 'via',\n",
       " 'Jump',\n",
       " 'unmanned',\n",
       " 'Narragansett',\n",
       " 'sunsets',\n",
       " 'holies',\n",
       " 'breasts',\n",
       " 'pawn',\n",
       " 'domed',\n",
       " 'invent',\n",
       " 'uncracked',\n",
       " 'Manx',\n",
       " 'spaciousness',\n",
       " 'meditativeness',\n",
       " 'Swaine',\n",
       " 'scouts',\n",
       " 'subterraneousness',\n",
       " 'presentment',\n",
       " 'complaints',\n",
       " 'caterpillar',\n",
       " 'snakes',\n",
       " 'offensively',\n",
       " 'relatively',\n",
       " 'Outside',\n",
       " 'GRIMLY',\n",
       " 'fanatics',\n",
       " 'supernaturalness',\n",
       " 'grandissimus',\n",
       " 'unworshipping',\n",
       " 'undulation',\n",
       " 'Fuego',\n",
       " 'wee',\n",
       " 'Monongahela',\n",
       " 'SAID',\n",
       " 'apricot',\n",
       " 'obeys',\n",
       " 'Baliene',\n",
       " 'intertangled',\n",
       " 'raved',\n",
       " 'conventional',\n",
       " 'Herr',\n",
       " 'Astronomy',\n",
       " 'largeness',\n",
       " 'posies',\n",
       " 'engrossing',\n",
       " 'sighting',\n",
       " 'proverbially',\n",
       " 'obliterated',\n",
       " 'verifications',\n",
       " 'BERMUDAS',\n",
       " 'BELOW',\n",
       " 'monotonous',\n",
       " 'Callao',\n",
       " 'untraditionally',\n",
       " 'Asphaltites',\n",
       " 'verbal',\n",
       " 'rifled',\n",
       " 'canakin',\n",
       " 'Michael',\n",
       " 'serpentine',\n",
       " 'uneventfulness',\n",
       " 'frequency',\n",
       " 'Chart',\n",
       " 'Base',\n",
       " 'fumbled',\n",
       " 'commotions',\n",
       " 'spouters',\n",
       " 'upside',\n",
       " 'Cooke',\n",
       " 'warfare',\n",
       " 'bowes',\n",
       " 'curiousness',\n",
       " 'Poles',\n",
       " 'Abel',\n",
       " 'colds',\n",
       " 'Tennessee',\n",
       " 'bantam',\n",
       " 'suffused',\n",
       " 'gaspings',\n",
       " 'farrago',\n",
       " 'Walking',\n",
       " '37',\n",
       " 'inhospitable',\n",
       " 'mermaid',\n",
       " 'Jonathan',\n",
       " 'House',\n",
       " 'catarrhs',\n",
       " '38',\n",
       " 'banqueter',\n",
       " 'cruiser',\n",
       " 'authorized',\n",
       " 'Smeer',\n",
       " 'conflagrations',\n",
       " 'heralding',\n",
       " 'pert',\n",
       " 'drilled',\n",
       " 'inkling',\n",
       " 'repent',\n",
       " 'prevalent',\n",
       " 'oils',\n",
       " 'damning',\n",
       " 'brunt',\n",
       " 'scuttling',\n",
       " 'Perish',\n",
       " 'Smithfield',\n",
       " 'knocks',\n",
       " 'SENTENCE',\n",
       " 'independence',\n",
       " 'October',\n",
       " 'abate',\n",
       " 'unlighted',\n",
       " 'nieces',\n",
       " 'unsurrendered',\n",
       " 'saline',\n",
       " 'spoutholes',\n",
       " 'threadbare',\n",
       " 'Schools',\n",
       " 'uniqueness',\n",
       " 'tested',\n",
       " 'contentedly',\n",
       " 'eschewed',\n",
       " 'languid',\n",
       " 'Goat',\n",
       " 'stigma',\n",
       " 'creditors',\n",
       " 'servile',\n",
       " 'demonism',\n",
       " 'tithe',\n",
       " 'ork',\n",
       " 'Mansoul',\n",
       " 'Ehrenbreitstein',\n",
       " 'bayonets',\n",
       " 'untidy',\n",
       " 'wisely',\n",
       " 'forlornness',\n",
       " 'urging',\n",
       " 'blossom',\n",
       " 'midship',\n",
       " 'striven',\n",
       " 'antlers',\n",
       " 'grunted',\n",
       " 'Serious',\n",
       " 'excavation',\n",
       " 'trampled',\n",
       " 'homewardbound',\n",
       " 'Pascal',\n",
       " 'puissant',\n",
       " 'Dance',\n",
       " 'costermongers',\n",
       " 'harems',\n",
       " 'extermination',\n",
       " 'wits',\n",
       " 'manikin',\n",
       " 'orthodox',\n",
       " 'Enderbys',\n",
       " 'launch',\n",
       " 'molifier',\n",
       " 'magnetism',\n",
       " 'Sorrows',\n",
       " 'hastier',\n",
       " 'genera',\n",
       " 'Entreaties',\n",
       " 'ISLANDS',\n",
       " 'unhealing',\n",
       " 'Macrocephalus',\n",
       " 'etherial',\n",
       " 'foremastmen',\n",
       " 'reddened',\n",
       " 'railway',\n",
       " 'vivifying',\n",
       " 'glade',\n",
       " 'bumpers',\n",
       " 'clapt',\n",
       " 'ATTACK',\n",
       " 'solecism',\n",
       " 'justify',\n",
       " 'obeyest',\n",
       " 'stair',\n",
       " 'intrepidly',\n",
       " 'criterion',\n",
       " 'stingy',\n",
       " 'bedevilling',\n",
       " 'forgetting',\n",
       " 'unwillingness',\n",
       " 'steeple',\n",
       " 'Caw',\n",
       " 'intensest',\n",
       " '122',\n",
       " 'oftenest',\n",
       " 'panics',\n",
       " 'THESE',\n",
       " 'BUSILY',\n",
       " 'treble',\n",
       " 'wondrousness',\n",
       " 'Unicorn',\n",
       " '1842',\n",
       " 'halfspent',\n",
       " 'flour',\n",
       " 'scolloped',\n",
       " ...]"
      ]
     },
     "execution_count": 54,
     "metadata": {},
     "output_type": "execute_result"
    }
   ],
   "source": [
    "fdist1.hapaxes()"
   ]
  },
  {
   "cell_type": "code",
   "execution_count": 57,
   "metadata": {
    "collapsed": false
   },
   "outputs": [
    {
     "name": "stdout",
     "output_type": "stream",
     "text": [
      "['CIRCUMNAVIGATION', 'Physiognomically', 'apprehensiveness', 'cannibalistically', 'characteristically', 'circumnavigating', 'circumnavigation', 'circumnavigations', 'comprehensiveness', 'hermaphroditical', 'indiscriminately', 'indispensableness', 'irresistibleness', 'physiognomically', 'preternaturalness', 'responsibilities', 'simultaneousness', 'subterraneousness', 'supernaturalness', 'superstitiousness', 'uncomfortableness', 'uncompromisedness', 'undiscriminating', 'uninterpenetratingly']\n"
     ]
    }
   ],
   "source": [
    "V = set(text1)\n",
    "long_words = [w for w in V if len(w) > 15]\n",
    "print(sorted(long_words))"
   ]
  },
  {
   "cell_type": "code",
   "execution_count": 62,
   "metadata": {
    "collapsed": true
   },
   "outputs": [
    {
     "data": {
      "text/plain": [
       "['#14-19teens',\n",
       " '#talkcity_adults',\n",
       " '((((((((((',\n",
       " '........',\n",
       " 'Question',\n",
       " 'actually',\n",
       " 'anything',\n",
       " 'computer',\n",
       " 'cute.-ass',\n",
       " 'everyone',\n",
       " 'football',\n",
       " 'innocent',\n",
       " 'listening',\n",
       " 'remember',\n",
       " 'seriously',\n",
       " 'something',\n",
       " 'together',\n",
       " 'tomorrow',\n",
       " 'watching']"
      ]
     },
     "execution_count": 62,
     "metadata": {},
     "output_type": "execute_result"
    }
   ],
   "source": [
    "#find the words that occur more than 7 times as well as longer than 7 letters.\n",
    "fdist5 = FreqDist(text5)\n",
    "sorted(w for w in set(text5) if len(w) > 7 and fdist5[w] > 7)"
   ]
  },
  {
   "cell_type": "code",
   "execution_count": 63,
   "metadata": {
    "collapsed": true
   },
   "outputs": [
    {
     "name": "stdout",
     "output_type": "stream",
     "text": [
      "['!!!!!!!!!!!!!!!!', '!!!!!!!!!!!!!!!!!!!!!!', '!!!!!!!!!!!!!!!!!!!!!!!', '!!!!!!!!!!!!!!!!!!!!!!!!!!!', '!!!!!!!!!!!!!!!!!!!!!!!!!!!!', '!!!!!!!!!!!!!!!!!!!!!!!!!!!!!!!!!!!!!!!!!!!!!!!!!!!!!!', '#talkcity_adults', '(((((((((((((((((', '((((((((((((((((((', '((((((((((((((((((((', '(((((((((((((((((((((', '(((((((((((((((((((((((', '((((((((((((((((((((((((', '(((((((((((((((((((((((((', '((((((((((((((((((((((((((', ')))))))))))))))))', ')))))))))))))))))))', ')))))))))))))))))))))', '))))))))))))))))))))))', '))))))))))))))))))))))))))))', ')))))))))))))))))))))))))))))))', '--------------------', '.(..(.vMp3 v1.7.4.).)', '.(..(.vMp3 vi.p.t.)..).', '................', '..................', '...................', '....................', '........................', '..............................', '.A.n.a.c.?.n.?.a.', '//www.wunderground.com/cgi-bin/findweather/getForecast?query=95953#FIR', '<3333333333333333', '<33333333333333333', 'BAAAAALLLLLLLLIIIIIIINNNNNNNNNNN', 'Bloooooooooooood', 'HHEEYYYYYYYYYYYYYYYYYYYYYYYYYYYYYYYYYYYYYYYYYYYYYYY', 'HolocaustYourMom', 'Mooooooooooooooooooooooooooo', 'Nooooooooooooooo', 'WEEEEEEEEEEEEEEEEEE', '[[[[[[[[[[[[[[[[[[', ']]]]]]]]]]]]]]]]]]]]]', 'aaaaaaaaaaaaaaaaa', 'agurlwithbigguns', 'aiiiiiiiiiiiiiiiiiiiiiiii', 'anyyyyyyyyyyyyyyyyy', 'backfrontsidewaysandallaroundtheworld', 'bbbbbyyyyyyyeeeeeeeee', 'boooooooooooglyyyyyy', 'bwahahahahahahahahahaha', 'cooooooooookiiiiiiiiiiiieeeeeeeeeeee', 'eeeeeeeeewwwwwwww', 'grrrrrrrrrrrrrrrrr', 'hahahahahahahahahahahahahahahaha', 'heeheeheeheeheehee', 'heyyyyyyyyyyyyyy', 'http://forums.talkcity.com/tc-adults/start ', 'http://www.shadowbots.com', 'huuuuuuuuuuuuuuuuuuuuuuuuuuuuuuuuuuugZ', 'iamahotniplickme', 'iamahotnipwithhotnippics', 'iamahotnipwithpics', 'lllllllliiiiiiiiiikeee', 'llloooozzzzeeerrrrzzzzzzzzzzzzzzzzzzzzzzzzzzzzzzzzzzzzzzzzzzzzzzzzz', 'miiiiiiiiiiiiinnnnnnnnnnneeeeeeeeee', 'miiiiiinnnnnnnnnneeeeeeee', 'mikeeeeeeeeeeeeeeeeeeeeeeeeee', 'mmmmmmmmiiiiiiiiinnnnnnnnneeeeeeee', 'muahssssssssssssssss', 'muahsssssssssssssssssss', 'niteeeeeeeeeeeeeeeeeee', 'ohhhhhhhhhhhhhhhh', 'oooooooooooglyyyyyyyy', 'oooooooooooooonnnnnnnnnnnneeeeeeeeeeeeeeesssssssss', 'raaaaaaaaaaaaaaaaaaaaaaaaaaaaa', 'tatatatnanaantatat', 'weeeeeeeeeeeeeeee', 'weeeeeeeeeeeeeeeeeeeeeeeeed', 'wheeeeeeeeeeeeeeeeeeeeeeeeeeeeeeeeee', 'woooooooooaaaahhhhhhhhhhhh', 'wooooooooooooohoooooooooooooooo', 'www.Wunderground.com', 'yuuuuuuuuuuuummmmmmmmmmmm']\n"
     ]
    }
   ],
   "source": [
    "V = set(text5)\n",
    "long_words = [w for w in V if len(w) > 15]\n",
    "print(sorted(long_words))"
   ]
  },
  {
   "cell_type": "code",
   "execution_count": null,
   "metadata": {
    "collapsed": true
   },
   "outputs": [],
   "source": [
    "Here is the end of 3.2. I will come back at 3.3"
   ]
  },
  {
   "cell_type": "code",
   "execution_count": null,
   "metadata": {
    "collapsed": false
   },
   "outputs": [],
   "source": []
  },
  {
   "cell_type": "code",
   "execution_count": null,
   "metadata": {
    "collapsed": true
   },
   "outputs": [],
   "source": []
  }
 ],
 "metadata": {
  "kernelspec": {
   "display_name": "Python 3",
   "language": "python",
   "name": "python3"
  },
  "language_info": {
   "codemirror_mode": {
    "name": "ipython",
    "version": 3
   },
   "file_extension": ".py",
   "mimetype": "text/x-python",
   "name": "python",
   "nbconvert_exporter": "python",
   "pygments_lexer": "ipython3",
   "version": "3.5.2"
  }
 },
 "nbformat": 4,
 "nbformat_minor": 0
}
