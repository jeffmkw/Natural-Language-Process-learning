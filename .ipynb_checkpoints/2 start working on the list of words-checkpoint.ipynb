{
 "cells": [
  {
   "cell_type": "code",
   "execution_count": 1,
   "metadata": {
    "collapsed": false
   },
   "outputs": [
    {
     "name": "stdout",
     "output_type": "stream",
     "text": [
      "*** Introductory Examples for the NLTK Book ***\n",
      "Loading text1, ..., text9 and sent1, ..., sent9\n",
      "Type the name of the text or sentence to view it.\n",
      "Type: 'texts()' or 'sents()' to list the materials.\n",
      "text1: Moby Dick by Herman Melville 1851\n",
      "text2: Sense and Sensibility by Jane Austen 1811\n",
      "text3: The Book of Genesis\n",
      "text4: Inaugural Address Corpus\n",
      "text5: Chat Corpus\n",
      "text6: Monty Python and the Holy Grail\n",
      "text7: Wall Street Journal\n",
      "text8: Personals Corpus\n",
      "text9: The Man Who Was Thursday by G . K . Chesterton 1908\n"
     ]
    }
   ],
   "source": [
    "%matplotlib inline\n",
    "import nltk\n",
    "from nltk.book import *"
   ]
  },
  {
   "cell_type": "code",
   "execution_count": 2,
   "metadata": {
    "collapsed": true
   },
   "outputs": [],
   "source": [
    "#make a repeative function to work on the cells i just typed\n",
    "def lexical_diversity(text):\n",
    "    return len(set(text)) / len(text) \n",
    "def percentage(count, total):\n",
    "    return 100*count/total"
   ]
  },
  {
   "cell_type": "code",
   "execution_count": 3,
   "metadata": {
    "collapsed": false
   },
   "outputs": [
    {
     "data": {
      "text/plain": [
       "['Call', 'me', 'Ishmael', '.']"
      ]
     },
     "execution_count": 3,
     "metadata": {},
     "output_type": "execute_result"
    }
   ],
   "source": [
    "sent1"
   ]
  },
  {
   "cell_type": "code",
   "execution_count": 4,
   "metadata": {
    "collapsed": false
   },
   "outputs": [],
   "source": [
    "work = ['call','me','Jeffery','.']"
   ]
  },
  {
   "cell_type": "code",
   "execution_count": 5,
   "metadata": {
    "collapsed": false
   },
   "outputs": [
    {
     "data": {
      "text/plain": [
       "['call', 'me', 'Jeffery', '.']"
      ]
     },
     "execution_count": 5,
     "metadata": {},
     "output_type": "execute_result"
    }
   ],
   "source": [
    "work"
   ]
  },
  {
   "cell_type": "code",
   "execution_count": 6,
   "metadata": {
    "collapsed": false
   },
   "outputs": [
    {
     "data": {
      "text/plain": [
       "4"
      ]
     },
     "execution_count": 6,
     "metadata": {},
     "output_type": "execute_result"
    }
   ],
   "source": [
    "len(work)"
   ]
  },
  {
   "cell_type": "code",
   "execution_count": 7,
   "metadata": {
    "collapsed": false
   },
   "outputs": [
    {
     "data": {
      "text/plain": [
       "1.0"
      ]
     },
     "execution_count": 7,
     "metadata": {},
     "output_type": "execute_result"
    }
   ],
   "source": [
    "lexical_diversity(work)"
   ]
  },
  {
   "cell_type": "code",
   "execution_count": 8,
   "metadata": {
    "collapsed": true
   },
   "outputs": [],
   "source": [
    "name = 'Jeffery'"
   ]
  },
  {
   "cell_type": "code",
   "execution_count": 9,
   "metadata": {
    "collapsed": false
   },
   "outputs": [
    {
     "data": {
      "text/plain": [
       "'JefferyJeffery'"
      ]
     },
     "execution_count": 9,
     "metadata": {},
     "output_type": "execute_result"
    }
   ],
   "source": [
    "name*2"
   ]
  },
  {
   "cell_type": "code",
   "execution_count": 10,
   "metadata": {
    "collapsed": false
   },
   "outputs": [
    {
     "data": {
      "text/plain": [
       "'Jeffery!'"
      ]
     },
     "execution_count": 10,
     "metadata": {},
     "output_type": "execute_result"
    }
   ],
   "source": [
    "name+'!'"
   ]
  },
  {
   "cell_type": "code",
   "execution_count": 11,
   "metadata": {
    "collapsed": false
   },
   "outputs": [
    {
     "data": {
      "text/plain": [
       "'Jeffery Python'"
      ]
     },
     "execution_count": 11,
     "metadata": {},
     "output_type": "execute_result"
    }
   ],
   "source": [
    "temp = ''.join(['Jeffery',' Python'])\n",
    "temp"
   ]
  },
  {
   "cell_type": "code",
   "execution_count": 12,
   "metadata": {
    "collapsed": false
   },
   "outputs": [
    {
     "data": {
      "text/plain": [
       "['Jeffery', 'Python']"
      ]
     },
     "execution_count": 12,
     "metadata": {},
     "output_type": "execute_result"
    }
   ],
   "source": [
    "#has to have space or somthing in between\n",
    "temp.split()"
   ]
  },
  {
   "cell_type": "markdown",
   "metadata": {},
   "source": [
    "Here starts doing statistics with words"
   ]
  },
  {
   "cell_type": "code",
   "execution_count": 13,
   "metadata": {
    "collapsed": false
   },
   "outputs": [
    {
     "data": {
      "text/plain": [
       "['After',\n",
       " 'all',\n",
       " 'is',\n",
       " 'said',\n",
       " 'and',\n",
       " 'done',\n",
       " 'more',\n",
       " 'is',\n",
       " 'said',\n",
       " 'than',\n",
       " 'done']"
      ]
     },
     "execution_count": 13,
     "metadata": {},
     "output_type": "execute_result"
    }
   ],
   "source": [
    "saying = ['After', 'all', 'is', 'said', 'and', 'done',\n",
    "           'more', 'is', 'said', 'than', 'done']\n",
    "saying"
   ]
  },
  {
   "cell_type": "code",
   "execution_count": 14,
   "metadata": {
    "collapsed": false
   },
   "outputs": [
    {
     "data": {
      "text/plain": [
       "{'After', 'all', 'and', 'done', 'is', 'more', 'said', 'than'}"
      ]
     },
     "execution_count": 14,
     "metadata": {},
     "output_type": "execute_result"
    }
   ],
   "source": [
    "tokens = set(saying)\n",
    "tokens"
   ]
  },
  {
   "cell_type": "code",
   "execution_count": 15,
   "metadata": {
    "collapsed": false
   },
   "outputs": [
    {
     "data": {
      "text/plain": [
       "['After', 'all', 'and', 'done', 'is', 'more', 'said', 'than']"
      ]
     },
     "execution_count": 15,
     "metadata": {},
     "output_type": "execute_result"
    }
   ],
   "source": [
    "tokens = sorted(tokens)\n",
    "tokens"
   ]
  },
  {
   "cell_type": "code",
   "execution_count": 16,
   "metadata": {
    "collapsed": false
   },
   "outputs": [
    {
     "data": {
      "text/plain": [
       "['said', 'than']"
      ]
     },
     "execution_count": 16,
     "metadata": {},
     "output_type": "execute_result"
    }
   ],
   "source": [
    "tokens[-2:]"
   ]
  },
  {
   "cell_type": "code",
   "execution_count": 17,
   "metadata": {
    "collapsed": false
   },
   "outputs": [
    {
     "name": "stdout",
     "output_type": "stream",
     "text": [
      "<FreqDist with 19317 samples and 260819 outcomes>\n"
     ]
    }
   ],
   "source": [
    "fdist1 = FreqDist(text1)\n",
    "print(fdist1)"
   ]
  },
  {
   "cell_type": "code",
   "execution_count": 18,
   "metadata": {
    "collapsed": false,
    "scrolled": true
   },
   "outputs": [
    {
     "name": "stdout",
     "output_type": "stream",
     "text": [
      "[(',', 18713), ('the', 13721), ('.', 6862), ('of', 6536), ('and', 6024), ('a', 4569), ('to', 4542), (';', 4072), ('in', 3916), ('that', 2982), (\"'\", 2684), ('-', 2552), ('his', 2459), ('it', 2209), ('I', 2124), ('s', 1739), ('is', 1695), ('he', 1661), ('with', 1659), ('was', 1632), ('as', 1620), ('\"', 1478), ('all', 1462), ('for', 1414), ('this', 1280), ('!', 1269), ('at', 1231), ('by', 1137), ('but', 1113), ('not', 1103), ('--', 1070), ('him', 1058), ('from', 1052), ('be', 1030), ('on', 1005), ('so', 918), ('whale', 906), ('one', 889), ('you', 841), ('had', 767), ('have', 760), ('there', 715), ('But', 705), ('or', 697), ('were', 680), ('now', 646), ('which', 640), ('?', 637), ('me', 627), ('like', 624)]\n"
     ]
    }
   ],
   "source": [
    "print(fdist1.most_common(50))"
   ]
  },
  {
   "cell_type": "code",
   "execution_count": 19,
   "metadata": {
    "collapsed": false
   },
   "outputs": [
    {
     "name": "stdout",
     "output_type": "stream",
     "text": [
      "18713\n"
     ]
    }
   ],
   "source": [
    "print(fdist1[','])"
   ]
  },
  {
   "cell_type": "code",
   "execution_count": 20,
   "metadata": {
    "collapsed": false
   },
   "outputs": [
    {
     "data": {
      "image/png": "[encoded data removed]",
      "text/plain": [
       "<matplotlib.figure.Figure at 0x110d6ce48>"
      ]
     },
     "metadata": {},
     "output_type": "display_data"
    }
   ],
   "source": [
    "fdist1.plot(50, cumulative=True)"
   ]
  },
  {
   "cell_type": "code",
   "execution_count": 21,
   "metadata": {
    "collapsed": false
   },
   "outputs": [
    {
     "data": {
      "text/plain": [
       "['ponchos',\n",
       " 'cassock',\n",
       " 'formally',\n",
       " 'scentless',\n",
       " 'intrantem',\n",
       " 'skrimshandering',\n",
       " 'Genesis',\n",
       " 'equivalent',\n",
       " 'regardings',\n",
       " 'knockings',\n",
       " 'familiarity',\n",
       " 'Thine',\n",
       " 'gazettes',\n",
       " 'antics',\n",
       " 'Wellington',\n",
       " 'holders',\n",
       " 'idealized',\n",
       " 'slaughter',\n",
       " 'mortemizing',\n",
       " 'unassailable',\n",
       " 'excitements',\n",
       " 'synod',\n",
       " 'Diminish',\n",
       " 'ROCKS',\n",
       " 'markest',\n",
       " 'COLEMAN',\n",
       " 'WALLEN',\n",
       " 'mirrors',\n",
       " 'chucks',\n",
       " 'chronically',\n",
       " 'expediency',\n",
       " 'BREAKERS',\n",
       " 'fatalistic',\n",
       " '63',\n",
       " 'shamble',\n",
       " 'fencing',\n",
       " 'placard',\n",
       " 'CLEAN',\n",
       " 'graduates',\n",
       " 'inoffensive',\n",
       " 'withdraws',\n",
       " 'thirstily',\n",
       " 'boatheader',\n",
       " 'fictitious',\n",
       " 'consolatory',\n",
       " 'phraseology',\n",
       " 'Fleet',\n",
       " '82',\n",
       " 'Greedily',\n",
       " '108',\n",
       " 'managing',\n",
       " 'metres',\n",
       " 'sagacity',\n",
       " 'haughtily',\n",
       " 'unbiased',\n",
       " 'undoubtedly',\n",
       " 'vanquished',\n",
       " 'gouty',\n",
       " 'DEAD',\n",
       " 'luxuriant',\n",
       " 'Gesner',\n",
       " 'hallo',\n",
       " 'inscription',\n",
       " 'pitcher',\n",
       " 'Expeditions',\n",
       " 'ruling',\n",
       " 'incongruity',\n",
       " 'LANTERNS',\n",
       " 'prophecies',\n",
       " 'efficient',\n",
       " 'Electors',\n",
       " 'screams',\n",
       " 'seethingly',\n",
       " 'curtains',\n",
       " 'Assyrian',\n",
       " 'shutter',\n",
       " 'studs',\n",
       " 'systematized',\n",
       " 'hypochondriac',\n",
       " 'pyres',\n",
       " 'overbalance',\n",
       " 'infecting',\n",
       " 'soladoes',\n",
       " '59',\n",
       " 'ROSE',\n",
       " 'quoggy',\n",
       " 'namelessly',\n",
       " 'Loaded',\n",
       " 'baker',\n",
       " 'End',\n",
       " 'nerve',\n",
       " 'gettee',\n",
       " 'electricity',\n",
       " 'Southerner',\n",
       " 'unoccupied',\n",
       " 'aboriginalness',\n",
       " 'coaches',\n",
       " 'caged',\n",
       " 'missive',\n",
       " 'WILLIS',\n",
       " 'knell',\n",
       " 'unmixed',\n",
       " 'exhort',\n",
       " 'roughly',\n",
       " 'hind',\n",
       " 'roly',\n",
       " 'THAR',\n",
       " 'reefing',\n",
       " 'studies',\n",
       " 'contending',\n",
       " 'Glory',\n",
       " 'overwrapped',\n",
       " 'Watery',\n",
       " 'consciously',\n",
       " 'eventual',\n",
       " 'ragamuffin',\n",
       " 'sheathed',\n",
       " 'barriers',\n",
       " 'sloped',\n",
       " 'thunderings',\n",
       " 'liken',\n",
       " '4TH',\n",
       " '89',\n",
       " 'lap',\n",
       " 'tipping',\n",
       " 'bawled',\n",
       " 'inferences',\n",
       " 'whipped',\n",
       " 'Talus',\n",
       " 'clime',\n",
       " 'swerved',\n",
       " 'bought',\n",
       " 'cullest',\n",
       " 'bewildered',\n",
       " 'laudanum',\n",
       " 'vibrations',\n",
       " 'yearly',\n",
       " 'drift',\n",
       " 'purge',\n",
       " 'deploy',\n",
       " 'potentially',\n",
       " 'unsheathes',\n",
       " 'suppressed',\n",
       " 'knob',\n",
       " 'enacted',\n",
       " 'Narcissus',\n",
       " 'tallies',\n",
       " 'snort',\n",
       " 'obeys',\n",
       " 'bandbox',\n",
       " 'unhorse',\n",
       " \"?'--'\",\n",
       " 'territorial',\n",
       " 'signification',\n",
       " 'illuminating',\n",
       " 'OH',\n",
       " 'executor',\n",
       " 'pestiferously',\n",
       " 'bowling',\n",
       " 'Ages',\n",
       " 'waxed',\n",
       " 'Mt',\n",
       " 'cart',\n",
       " 'FORGE',\n",
       " 'SCENE',\n",
       " 'Abjectus',\n",
       " 'concurred',\n",
       " 'MINISTER',\n",
       " 'hemlock',\n",
       " 'unlimited',\n",
       " 'congeniality',\n",
       " 'weed',\n",
       " '118',\n",
       " 'marbled',\n",
       " 'Tamerlane',\n",
       " 'Dey',\n",
       " 'shoemaker',\n",
       " 'Despatch',\n",
       " 'grandmother',\n",
       " 'warbling',\n",
       " 'unmurmuringly',\n",
       " 'Remote',\n",
       " 'deprecating',\n",
       " 'Created',\n",
       " 'changeful',\n",
       " 'nappishness',\n",
       " 'borrow',\n",
       " 'sucklings',\n",
       " 'Marchant',\n",
       " 'blubbering',\n",
       " 'clenching',\n",
       " 'cured',\n",
       " 'attract',\n",
       " 'aides',\n",
       " 'joist',\n",
       " '133',\n",
       " 'Lamp',\n",
       " 'HUZZA',\n",
       " 'rambled',\n",
       " 'trimming',\n",
       " 'stealthily',\n",
       " 'unpleasing',\n",
       " 'outlet',\n",
       " 'creed',\n",
       " 'floes',\n",
       " 'appliance',\n",
       " 'remarking',\n",
       " 'absurdly',\n",
       " '110',\n",
       " 'dimensioned',\n",
       " 'WALTER',\n",
       " 'Temperance',\n",
       " 'Consequently',\n",
       " 'liturgies',\n",
       " 'MISSIONARY',\n",
       " 'leapest',\n",
       " 'Pushing',\n",
       " '1726',\n",
       " 'snaps',\n",
       " 'Carthage',\n",
       " 'baser',\n",
       " 'ROSS',\n",
       " 'Cooper',\n",
       " 'tho',\n",
       " 'leakage',\n",
       " 'SPITZBERGEN',\n",
       " 'probabilities',\n",
       " 'indistinctness',\n",
       " 'delegated',\n",
       " 'tiers',\n",
       " 'Seated',\n",
       " 'swindle',\n",
       " 'HANGING',\n",
       " 'Probably',\n",
       " 'Powers',\n",
       " 'dentistical',\n",
       " 'childlessness',\n",
       " 'Giver',\n",
       " 'jalap',\n",
       " 'cheerfulness',\n",
       " 'banner',\n",
       " 'officially',\n",
       " 'nephew',\n",
       " 'veracious',\n",
       " 'meddling',\n",
       " 'Asa',\n",
       " 'fittings',\n",
       " 'ISHMAEL',\n",
       " 'overleap',\n",
       " 'flints',\n",
       " 'cannibalistically',\n",
       " 'burstingly',\n",
       " 'transfixed',\n",
       " 'applying',\n",
       " 'NUDGING',\n",
       " 'divinest',\n",
       " 'Knight',\n",
       " 'suspends',\n",
       " 'theology',\n",
       " 'Pedestrians',\n",
       " 'Cyclades',\n",
       " 'liest',\n",
       " 'honourably',\n",
       " 'skrimmage',\n",
       " 'jettest',\n",
       " 'Hotel',\n",
       " 'W',\n",
       " 'unshorn',\n",
       " 'evolved',\n",
       " 'Lane',\n",
       " 'chickens',\n",
       " 'Clootz',\n",
       " 'props',\n",
       " 'deceased',\n",
       " 'Bring',\n",
       " 'mortality',\n",
       " 'hereof',\n",
       " 'denotes',\n",
       " 'oddish',\n",
       " 'Horner',\n",
       " 'aspiring',\n",
       " 'piloted',\n",
       " 'adjusting',\n",
       " 'g',\n",
       " 'BURST',\n",
       " 'scarfing',\n",
       " 'cinnamon',\n",
       " 'gesticulated',\n",
       " 'abortion',\n",
       " 'Portugal',\n",
       " 'pettiness',\n",
       " 'Postscript',\n",
       " 'unvexed',\n",
       " 'ewer',\n",
       " 'exemplary',\n",
       " 'Massacre',\n",
       " 'wastingly',\n",
       " 'keeling',\n",
       " 'dispel',\n",
       " 'rats',\n",
       " 'utilities',\n",
       " 'whalesmen',\n",
       " 'bakers',\n",
       " 'horrified',\n",
       " 'muzzle',\n",
       " 'verbal',\n",
       " 'wrestling',\n",
       " 'wisely',\n",
       " 'limitations',\n",
       " 'mystically',\n",
       " 'salamed',\n",
       " 'DEBELL',\n",
       " 'bedwards',\n",
       " 'palavering',\n",
       " 'rearward',\n",
       " '126',\n",
       " 'Potluck',\n",
       " 'Huron',\n",
       " 'inlaying',\n",
       " 'conceded',\n",
       " 'gasped',\n",
       " 'scrutinizing',\n",
       " 'bamboo',\n",
       " 'HARD',\n",
       " 'amen',\n",
       " 'Emboldened',\n",
       " 'knobs',\n",
       " 'dissolve',\n",
       " 'breadfruit',\n",
       " 'Melville',\n",
       " 'insured',\n",
       " 'pertinacious',\n",
       " 'tigress',\n",
       " 'retaining',\n",
       " 'Judea',\n",
       " 'Academy',\n",
       " 'HOMINUM',\n",
       " 'gluepots',\n",
       " 'evinces',\n",
       " 'succeeds',\n",
       " 'moodiness',\n",
       " 'weaves',\n",
       " 'yawing',\n",
       " 'settlers',\n",
       " 'Dante',\n",
       " 'LIGHT',\n",
       " 'colony',\n",
       " 'destroyer',\n",
       " 'Drop',\n",
       " '21',\n",
       " 'prepares',\n",
       " 'lumbered',\n",
       " 'Jesu',\n",
       " 'spiralizing',\n",
       " 'precedes',\n",
       " 'carlines',\n",
       " 'dramatically',\n",
       " 'newlanded',\n",
       " 'circumpolar',\n",
       " 'breezelessness',\n",
       " 'ideality',\n",
       " 'Sphinx',\n",
       " 'Passed',\n",
       " 'normal',\n",
       " 'monsieurs',\n",
       " 'irreverence',\n",
       " 'orthodoxy',\n",
       " 'Placing',\n",
       " 'STRAPS',\n",
       " 'treachery',\n",
       " 'passages',\n",
       " 'atmospheres',\n",
       " 'distinguishing',\n",
       " 'consciences',\n",
       " 'Drawn',\n",
       " 'tufts',\n",
       " 'constituents',\n",
       " 'electric',\n",
       " 'freckled',\n",
       " 'prophetic',\n",
       " 'Crab',\n",
       " 'throttle',\n",
       " 'NOUN',\n",
       " 'Holofernes',\n",
       " 'polish',\n",
       " 'amounted',\n",
       " 'cobblestones',\n",
       " 'piping',\n",
       " 'WHALEBONE',\n",
       " 'comprehensively',\n",
       " '105',\n",
       " 'unseamanlike',\n",
       " 'inventing',\n",
       " 'eyelids',\n",
       " 'price',\n",
       " 'solicited',\n",
       " 'renowned',\n",
       " 'LATIN',\n",
       " 'Goldsmith',\n",
       " 'bunched',\n",
       " 'princess',\n",
       " 'lesser',\n",
       " 'apparel',\n",
       " 'Business',\n",
       " 'loosed',\n",
       " 'intervene',\n",
       " 'spiritually',\n",
       " 'footfall',\n",
       " 'abbreviation',\n",
       " 'tubes',\n",
       " 'jogged',\n",
       " 'THRICE',\n",
       " 'Gurry',\n",
       " 'scolds',\n",
       " 'inwreathing',\n",
       " 'tee',\n",
       " 'clouded',\n",
       " 'underived',\n",
       " 'guarded',\n",
       " 'demeanor',\n",
       " 'underground',\n",
       " 'Asphaltites',\n",
       " 'Morgana',\n",
       " 'vats',\n",
       " 'insultest',\n",
       " 'retentive',\n",
       " 'suction',\n",
       " 'stumbling',\n",
       " 'Magian',\n",
       " 'Wa',\n",
       " 'bepatched',\n",
       " 'superincumbent',\n",
       " 'jaundice',\n",
       " 'Himself',\n",
       " 'incomputable',\n",
       " 'frontier',\n",
       " 'Indiamen',\n",
       " 'HEIGHT',\n",
       " 'FORESAIL',\n",
       " 'tastefully',\n",
       " 'thrashing',\n",
       " 'ligature',\n",
       " 'Detached',\n",
       " 'rub',\n",
       " 'incites',\n",
       " 'surcoat',\n",
       " 'renounced',\n",
       " 'fluking',\n",
       " 'dock',\n",
       " 'precincts',\n",
       " 'LINE',\n",
       " 'deacon',\n",
       " 'preeminence',\n",
       " 'Hydriote',\n",
       " 'magistrate',\n",
       " 'tanned',\n",
       " 'festivities',\n",
       " 'Ray',\n",
       " 'literature',\n",
       " 'melt',\n",
       " 'blunted',\n",
       " 'HOBOMACK',\n",
       " 'incumbrance',\n",
       " 'fattening',\n",
       " 'turmoil',\n",
       " 'aimlessly',\n",
       " '58',\n",
       " 'lighten',\n",
       " 'suggest',\n",
       " 'retains',\n",
       " 'harbours',\n",
       " 'sends',\n",
       " 'impulsively',\n",
       " 'Eagle',\n",
       " 'ills',\n",
       " 'strutting',\n",
       " 'rafters',\n",
       " 'Alarmed',\n",
       " 'chases',\n",
       " 'untrackably',\n",
       " 'loitering',\n",
       " 'platform',\n",
       " 'circumspectly',\n",
       " 'wakefulness',\n",
       " 'rowels',\n",
       " 'flipped',\n",
       " 'conveniently',\n",
       " 'Stars',\n",
       " 'cabled',\n",
       " 'systematizer',\n",
       " 'Thorkill',\n",
       " 'Late',\n",
       " 'mobbed',\n",
       " 'liberation',\n",
       " 'chapels',\n",
       " 'compliment',\n",
       " 'Stealing',\n",
       " 'Led',\n",
       " 'Please',\n",
       " 'cartloads',\n",
       " 'programme',\n",
       " 'Feegee',\n",
       " 'FIFE',\n",
       " 'batten',\n",
       " 'Whenever',\n",
       " 'reydan',\n",
       " 'protruding',\n",
       " 'Enderbies',\n",
       " 'Rue',\n",
       " 'Parisians',\n",
       " 'repulses',\n",
       " 'untagging',\n",
       " 'chivalrous',\n",
       " 'weakling',\n",
       " 'rickety',\n",
       " 'ARCTIC',\n",
       " 'loveliness',\n",
       " 'Union',\n",
       " 'dartingly',\n",
       " 'malefactors',\n",
       " 'acute',\n",
       " 'Judith',\n",
       " 'sayst',\n",
       " 'Hearkening',\n",
       " 'deplore',\n",
       " 'Lascars',\n",
       " 'replenishes',\n",
       " 'lonesomely',\n",
       " 'lobtailing',\n",
       " 'spheres',\n",
       " 'artificialness',\n",
       " 'unearthed',\n",
       " 'obscuring',\n",
       " 'negatively',\n",
       " 'mug',\n",
       " 'forerunning',\n",
       " 'villainous',\n",
       " 'sled',\n",
       " 'parks',\n",
       " 'emblazoning',\n",
       " 'Vaticans',\n",
       " 'residue',\n",
       " 'demonisms',\n",
       " 'refuses',\n",
       " 'ELIZA',\n",
       " 'Weep',\n",
       " 'Hind',\n",
       " 'morbid',\n",
       " 'ejaculation',\n",
       " 'boobies',\n",
       " 'disbands',\n",
       " 'initials',\n",
       " 'officered',\n",
       " 'phiz',\n",
       " 'Sultan',\n",
       " 'beaker',\n",
       " 'ELIZABETH',\n",
       " 'coerced',\n",
       " 'Astern',\n",
       " 'Lent',\n",
       " 'twitching',\n",
       " 'confining',\n",
       " 'Unappalled',\n",
       " 'incidents',\n",
       " 'loaf',\n",
       " 'Flip',\n",
       " 'plaything',\n",
       " 'overmuch',\n",
       " 'wavings',\n",
       " 'cloudy',\n",
       " 'amphitheatrical',\n",
       " 'loyal',\n",
       " 'sinew',\n",
       " 'cheeriest',\n",
       " 'evilly',\n",
       " 'Stir',\n",
       " 'whistlingly',\n",
       " 'thereabouts',\n",
       " 'specialties',\n",
       " 'endures',\n",
       " 'respected',\n",
       " 'embodied',\n",
       " 'assumes',\n",
       " 'soliloquizer',\n",
       " 'jelly',\n",
       " 'exaggerate',\n",
       " 'inuendoes',\n",
       " 'dissolutions',\n",
       " 'DRYDEN',\n",
       " 'gnashing',\n",
       " 'cynical',\n",
       " 'shadiest',\n",
       " 'Tartarian',\n",
       " 'Wooden',\n",
       " 'billed',\n",
       " 'Wants',\n",
       " 'coercing',\n",
       " 'MIRIAM',\n",
       " 'rapture',\n",
       " 'fadest',\n",
       " 'cloaked',\n",
       " 'CRUISING',\n",
       " 'Crockett',\n",
       " '1840',\n",
       " 'Backs',\n",
       " 'warping',\n",
       " 'withdrawals',\n",
       " 'craggy',\n",
       " 'PROGRESS',\n",
       " 'archiepiscopacy',\n",
       " 'shops',\n",
       " 'Atlantics',\n",
       " 'innocency',\n",
       " 'prone',\n",
       " 'pedlars',\n",
       " 'quig',\n",
       " 'reasonableness',\n",
       " 'TIMES',\n",
       " 'scraggy',\n",
       " 'saltcellar',\n",
       " 'boards',\n",
       " 'pomatum',\n",
       " 'worldly',\n",
       " 'Beloved',\n",
       " 'imperative',\n",
       " 'launchest',\n",
       " 'sheering',\n",
       " 'Wheelbarrow',\n",
       " 'jeering',\n",
       " 'canonicals',\n",
       " 'matched',\n",
       " 'fetid',\n",
       " 'DURING',\n",
       " '16th',\n",
       " 'Inert',\n",
       " 'glazed',\n",
       " 'porter',\n",
       " 'petrified',\n",
       " 'creepingly',\n",
       " 'perceptibility',\n",
       " 'clove',\n",
       " 'obscurity',\n",
       " 'Woo',\n",
       " 'Mixed',\n",
       " 'invokingly',\n",
       " 'Legs',\n",
       " 'intertangled',\n",
       " 'medallion',\n",
       " 'mattrass',\n",
       " 'pendants',\n",
       " 'animate',\n",
       " 'grotesqueness',\n",
       " 'broiling',\n",
       " 'HEARS',\n",
       " 'Insufferable',\n",
       " 'hag',\n",
       " 'jointed',\n",
       " 'scrouge',\n",
       " 'lieutenants',\n",
       " 'marbleized',\n",
       " 'LOCK',\n",
       " 'circulates',\n",
       " 'boon',\n",
       " 'handedness',\n",
       " 'Carpet',\n",
       " 'splashing',\n",
       " 'Grub',\n",
       " 'weak',\n",
       " 'grasps',\n",
       " 'unfurnished',\n",
       " 'instituted',\n",
       " 'Assume',\n",
       " 'coating',\n",
       " 'dedicating',\n",
       " 'L',\n",
       " 'blanks',\n",
       " 'phospher',\n",
       " 'appoint',\n",
       " 'employment',\n",
       " 'blackling',\n",
       " 'rebelling',\n",
       " 'Supposing',\n",
       " 'costume',\n",
       " 'illustrate',\n",
       " 'fiercer',\n",
       " 'enlisting',\n",
       " 'unstirring',\n",
       " 'opined',\n",
       " 'incuriously',\n",
       " 'voiced',\n",
       " 'cursorily',\n",
       " 'mocks',\n",
       " 'predecessor',\n",
       " 'Folger',\n",
       " 'bluntly',\n",
       " 'bible',\n",
       " 'swarthy',\n",
       " 'saplings',\n",
       " 'DIGNITY',\n",
       " 'mutations',\n",
       " 'contingent',\n",
       " 'plumping',\n",
       " 'Borean',\n",
       " 'impudence',\n",
       " 'Count',\n",
       " 'Secretary',\n",
       " 'HAILS',\n",
       " 'flexions',\n",
       " 'Willoughby',\n",
       " 'abbreviate',\n",
       " 'squattings',\n",
       " 'soberly',\n",
       " 'wittiness',\n",
       " 'SKY',\n",
       " 'Crushed',\n",
       " 'Bonapartes',\n",
       " 'brew',\n",
       " 'maziness',\n",
       " 'perilousness',\n",
       " 'motioning',\n",
       " 'MARBLE',\n",
       " 'PADS',\n",
       " 'pedigree',\n",
       " 'Forge',\n",
       " 'bestow',\n",
       " 'computed',\n",
       " 'rockets',\n",
       " 'exordium',\n",
       " 'receptive',\n",
       " 'pricked',\n",
       " 'Corlaer',\n",
       " 'analogical',\n",
       " 'unpoetical',\n",
       " '64',\n",
       " 'Popayan',\n",
       " 'bloodiest',\n",
       " 'vortices',\n",
       " 'AFRICA',\n",
       " 'WAL',\n",
       " 'cherrying',\n",
       " 'provincialisms',\n",
       " 'whittled',\n",
       " 'crags',\n",
       " 'brilliance',\n",
       " 'eyeless',\n",
       " 'Commanded',\n",
       " 'emoluments',\n",
       " 'lookouts',\n",
       " 'twas',\n",
       " 'sermonizings',\n",
       " 'enchanting',\n",
       " 'toothless',\n",
       " 'conquering',\n",
       " 'landscapes',\n",
       " 'privations',\n",
       " 'jiffy',\n",
       " 'Thrusting',\n",
       " '135',\n",
       " 'succeeding',\n",
       " 'fairer',\n",
       " 'DEVIL',\n",
       " 'liberated',\n",
       " 'trencher',\n",
       " 'Juan',\n",
       " 'honeycombs',\n",
       " 'unwedded',\n",
       " 'cyphers',\n",
       " 'brained',\n",
       " 'antemosaic',\n",
       " 'Mistress',\n",
       " 'allegiance',\n",
       " 'preternaturalness',\n",
       " 'Feegees',\n",
       " 'bewitching',\n",
       " 'Philippine',\n",
       " 'chafed',\n",
       " 'TWISTED',\n",
       " 'trudging',\n",
       " 'Gate',\n",
       " 'ineffaceable',\n",
       " 'dragons',\n",
       " 'unfolding',\n",
       " 'Shadrach',\n",
       " 'COMMODORE',\n",
       " 'alluringly',\n",
       " 'extorting',\n",
       " 'Want',\n",
       " 'gorings',\n",
       " 'terrier',\n",
       " 'marlinspikes',\n",
       " 'HUSSEY',\n",
       " 'fares',\n",
       " 'Senators',\n",
       " 'realizing',\n",
       " 'awry',\n",
       " 'L150',\n",
       " 'Armada',\n",
       " 'couldst',\n",
       " 'senseless',\n",
       " 'Outside',\n",
       " 'countersunk',\n",
       " 'Satanic',\n",
       " 'Formosa',\n",
       " 'cruiser',\n",
       " 'shrinking',\n",
       " 'unaccounted',\n",
       " 'allegorical',\n",
       " 'admonish',\n",
       " 'jetting',\n",
       " 'creeps',\n",
       " 'bigot',\n",
       " 'Apollo',\n",
       " 'headmost',\n",
       " '!\\'\"',\n",
       " 'infatuation',\n",
       " 'WIDOW',\n",
       " '122',\n",
       " 'provinces',\n",
       " 'rears',\n",
       " 'kitten',\n",
       " 'wanderer',\n",
       " 'yawingly',\n",
       " 'jovial',\n",
       " 'strive',\n",
       " 'Specksioneer',\n",
       " 'unmanifested',\n",
       " 'billeted',\n",
       " 'Virgo',\n",
       " 'IAN',\n",
       " 'blazes',\n",
       " '1850',\n",
       " 'Names',\n",
       " 'besooted',\n",
       " '81',\n",
       " 'Morquan',\n",
       " 'unavoidably',\n",
       " 'BACKED',\n",
       " 'prescience',\n",
       " 'Foremost',\n",
       " 'Affrighted',\n",
       " 'unique',\n",
       " 'chastisements',\n",
       " 'Lieutenant',\n",
       " 'giraffe',\n",
       " 'resisted',\n",
       " 'overhung',\n",
       " 'forges',\n",
       " 'clumsily',\n",
       " 'complies',\n",
       " 'tassels',\n",
       " 'pantomime',\n",
       " 'delusions',\n",
       " 'offensively',\n",
       " 'adhesiveness',\n",
       " 'besieged',\n",
       " 'Bunyan',\n",
       " 'plough',\n",
       " 'decorated',\n",
       " 'waiving',\n",
       " 'Commend',\n",
       " 'ratifying',\n",
       " 'condensation',\n",
       " 'expressly',\n",
       " 'Desolation',\n",
       " 'unhinted',\n",
       " 'bugbear',\n",
       " 'admirers',\n",
       " 'afoul',\n",
       " 'WHOEL',\n",
       " 'manikin',\n",
       " '129',\n",
       " 'accumulating',\n",
       " 'wickedness',\n",
       " 'delectable',\n",
       " 'Central',\n",
       " 'shrunk',\n",
       " 'flues',\n",
       " 'charnel',\n",
       " 'propelled',\n",
       " 'galls',\n",
       " 'Rocky',\n",
       " 'porcupine',\n",
       " 'resounded',\n",
       " 'disport',\n",
       " 'impiousness',\n",
       " 'rebel',\n",
       " 'Prick',\n",
       " 'Bud',\n",
       " 'Pactolus',\n",
       " 'depose',\n",
       " 'softener',\n",
       " 'surest',\n",
       " 'Unfitness',\n",
       " 'gap',\n",
       " 'willingness',\n",
       " 'tumblers',\n",
       " 'militia',\n",
       " 'crookedly',\n",
       " 'cloths',\n",
       " 'Friend',\n",
       " 'statistics',\n",
       " 'clings',\n",
       " 'prelusive',\n",
       " 'industrious',\n",
       " 'consulting',\n",
       " 'ants',\n",
       " 'SULKY',\n",
       " 'imbibing',\n",
       " 'probationary',\n",
       " 'sweetener',\n",
       " 'hies',\n",
       " 'thoughtlessness',\n",
       " 'presentiments',\n",
       " 'infirmity',\n",
       " 'scoot',\n",
       " 'Marmora',\n",
       " 'mislead',\n",
       " 'Scroll',\n",
       " 'weakly',\n",
       " 'rafted',\n",
       " 'feathering',\n",
       " 'icily',\n",
       " 'enjoins',\n",
       " 'scout',\n",
       " 'quits',\n",
       " 'concocts',\n",
       " 'innocently',\n",
       " 'trifling',\n",
       " 'sharked',\n",
       " 'Doubtless',\n",
       " 'confine',\n",
       " 'Ifs',\n",
       " 'shocked',\n",
       " 'suddenness',\n",
       " '50',\n",
       " 'manufacturer',\n",
       " 'grub',\n",
       " 'unstricken',\n",
       " 'reverentially',\n",
       " 'imps',\n",
       " 'Dunder',\n",
       " 'vesper',\n",
       " 'festooning',\n",
       " 'verbatim',\n",
       " 'deliverer',\n",
       " 'humorists',\n",
       " 'superadd',\n",
       " 'honed',\n",
       " 'sneering',\n",
       " 'gabled',\n",
       " 'abomination',\n",
       " 'Tempered',\n",
       " 'phosphorescence',\n",
       " 'acerbities',\n",
       " 'limbered',\n",
       " 'Orion',\n",
       " 'kidnapped',\n",
       " 'unshunned',\n",
       " 'triangularly',\n",
       " 'legislators',\n",
       " 'furs',\n",
       " 'crept',\n",
       " 'Erroneous',\n",
       " 'dewy',\n",
       " 'thirteenth',\n",
       " 'peltry',\n",
       " 'tiered',\n",
       " 'Vishnu',\n",
       " 'symbols',\n",
       " 'vicinities',\n",
       " 'laughable',\n",
       " 'ONLY',\n",
       " 'southwards',\n",
       " 'liars',\n",
       " 'centipede',\n",
       " 'wavy',\n",
       " 'whiffs',\n",
       " 'toying',\n",
       " 'indifferently',\n",
       " 'sourceless',\n",
       " 'bustles',\n",
       " 'ajar',\n",
       " 'Didst',\n",
       " 'corridors',\n",
       " 'conciliating',\n",
       " 'enactment',\n",
       " 'hoard',\n",
       " 'tallest',\n",
       " 'creative',\n",
       " 'CREWS',\n",
       " 'Logan',\n",
       " 'sidelingly',\n",
       " 'vignettes',\n",
       " 'knaves',\n",
       " 'excellently',\n",
       " 'bumping',\n",
       " 'retires',\n",
       " 'PLENTY',\n",
       " '--\\'\"',\n",
       " 'artisan',\n",
       " ...]"
      ]
     },
     "execution_count": 21,
     "metadata": {},
     "output_type": "execute_result"
    }
   ],
   "source": [
    "fdist1.hapaxes()"
   ]
  },
  {
   "cell_type": "code",
   "execution_count": 22,
   "metadata": {
    "collapsed": false
   },
   "outputs": [
    {
     "name": "stdout",
     "output_type": "stream",
     "text": [
      "['CIRCUMNAVIGATION', 'Physiognomically', 'apprehensiveness', 'cannibalistically', 'characteristically', 'circumnavigating', 'circumnavigation', 'circumnavigations', 'comprehensiveness', 'hermaphroditical', 'indiscriminately', 'indispensableness', 'irresistibleness', 'physiognomically', 'preternaturalness', 'responsibilities', 'simultaneousness', 'subterraneousness', 'supernaturalness', 'superstitiousness', 'uncomfortableness', 'uncompromisedness', 'undiscriminating', 'uninterpenetratingly']\n"
     ]
    }
   ],
   "source": [
    "V = set(text1)\n",
    "long_words = [w for w in V if len(w) > 15]\n",
    "print(sorted(long_words))"
   ]
  },
  {
   "cell_type": "code",
   "execution_count": 23,
   "metadata": {
    "collapsed": false
   },
   "outputs": [
    {
     "data": {
      "text/plain": [
       "['#14-19teens',\n",
       " '#talkcity_adults',\n",
       " '((((((((((',\n",
       " '........',\n",
       " 'Question',\n",
       " 'actually',\n",
       " 'anything',\n",
       " 'computer',\n",
       " 'cute.-ass',\n",
       " 'everyone',\n",
       " 'football',\n",
       " 'innocent',\n",
       " 'listening',\n",
       " 'remember',\n",
       " 'seriously',\n",
       " 'something',\n",
       " 'together',\n",
       " 'tomorrow',\n",
       " 'watching']"
      ]
     },
     "execution_count": 23,
     "metadata": {},
     "output_type": "execute_result"
    }
   ],
   "source": [
    "#find the words that occur more than 7 times as well as longer than 7 letters.\n",
    "fdist5 = FreqDist(text5)\n",
    "sorted(w for w in set(text5) if len(w) > 7 and fdist5[w] > 7)"
   ]
  },
  {
   "cell_type": "code",
   "execution_count": 24,
   "metadata": {
    "collapsed": false,
    "scrolled": true
   },
   "outputs": [
    {
     "name": "stdout",
     "output_type": "stream",
     "text": [
      "['!!!!!!!!!!!!!!!!', '!!!!!!!!!!!!!!!!!!!!!!', '!!!!!!!!!!!!!!!!!!!!!!!', '!!!!!!!!!!!!!!!!!!!!!!!!!!!', '!!!!!!!!!!!!!!!!!!!!!!!!!!!!', '!!!!!!!!!!!!!!!!!!!!!!!!!!!!!!!!!!!!!!!!!!!!!!!!!!!!!!', '#talkcity_adults', '(((((((((((((((((', '((((((((((((((((((', '((((((((((((((((((((', '(((((((((((((((((((((', '(((((((((((((((((((((((', '((((((((((((((((((((((((', '(((((((((((((((((((((((((', '((((((((((((((((((((((((((', ')))))))))))))))))', ')))))))))))))))))))', ')))))))))))))))))))))', '))))))))))))))))))))))', '))))))))))))))))))))))))))))', ')))))))))))))))))))))))))))))))', '--------------------', '.(..(.vMp3 v1.7.4.).)', '.(..(.vMp3 vi.p.t.)..).', '................', '..................', '...................', '....................', '........................', '..............................', '.A.n.a.c.?.n.?.a.', '//www.wunderground.com/cgi-bin/findweather/getForecast?query=95953#FIR', '<3333333333333333', '<33333333333333333', 'BAAAAALLLLLLLLIIIIIIINNNNNNNNNNN', 'Bloooooooooooood', 'HHEEYYYYYYYYYYYYYYYYYYYYYYYYYYYYYYYYYYYYYYYYYYYYYYY', 'HolocaustYourMom', 'Mooooooooooooooooooooooooooo', 'Nooooooooooooooo', 'WEEEEEEEEEEEEEEEEEE', '[[[[[[[[[[[[[[[[[[', ']]]]]]]]]]]]]]]]]]]]]', 'aaaaaaaaaaaaaaaaa', 'agurlwithbigguns', 'aiiiiiiiiiiiiiiiiiiiiiiii', 'anyyyyyyyyyyyyyyyyy', 'backfrontsidewaysandallaroundtheworld', 'bbbbbyyyyyyyeeeeeeeee', 'boooooooooooglyyyyyy', 'bwahahahahahahahahahaha', 'cooooooooookiiiiiiiiiiiieeeeeeeeeeee', 'eeeeeeeeewwwwwwww', 'grrrrrrrrrrrrrrrrr', 'hahahahahahahahahahahahahahahaha', 'heeheeheeheeheehee', 'heyyyyyyyyyyyyyy', 'http://forums.talkcity.com/tc-adults/start ', 'http://www.shadowbots.com', 'huuuuuuuuuuuuuuuuuuuuuuuuuuuuuuuuuuugZ', 'iamahotniplickme', 'iamahotnipwithhotnippics', 'iamahotnipwithpics', 'lllllllliiiiiiiiiikeee', 'llloooozzzzeeerrrrzzzzzzzzzzzzzzzzzzzzzzzzzzzzzzzzzzzzzzzzzzzzzzzzz', 'miiiiiiiiiiiiinnnnnnnnnnneeeeeeeeee', 'miiiiiinnnnnnnnnneeeeeeee', 'mikeeeeeeeeeeeeeeeeeeeeeeeeee', 'mmmmmmmmiiiiiiiiinnnnnnnnneeeeeeee', 'muahssssssssssssssss', 'muahsssssssssssssssssss', 'niteeeeeeeeeeeeeeeeeee', 'ohhhhhhhhhhhhhhhh', 'oooooooooooglyyyyyyyy', 'oooooooooooooonnnnnnnnnnnneeeeeeeeeeeeeeesssssssss', 'raaaaaaaaaaaaaaaaaaaaaaaaaaaaa', 'tatatatnanaantatat', 'weeeeeeeeeeeeeeee', 'weeeeeeeeeeeeeeeeeeeeeeeeed', 'wheeeeeeeeeeeeeeeeeeeeeeeeeeeeeeeeee', 'woooooooooaaaahhhhhhhhhhhh', 'wooooooooooooohoooooooooooooooo', 'www.Wunderground.com', 'yuuuuuuuuuuuummmmmmmmmmmm']\n"
     ]
    }
   ],
   "source": [
    "V = set(text5)\n",
    "long_words = [w for w in V if len(w) > 15]\n",
    "print(sorted(long_words))"
   ]
  },
  {
   "cell_type": "markdown",
   "metadata": {
    "collapsed": true
   },
   "source": [
    "Here is the end of 3.2. I will come back at 3.3"
   ]
  },
  {
   "cell_type": "code",
   "execution_count": 26,
   "metadata": {
    "collapsed": false
   },
   "outputs": [
    {
     "name": "stdout",
     "output_type": "stream",
     "text": [
      "United States; fellow citizens; four years; years ago; Federal\n",
      "Government; General Government; American people; Vice President; Old\n",
      "World; Almighty God; Fellow citizens; Chief Magistrate; Chief Justice;\n",
      "God bless; every citizen; Indian tribes; public debt; one another;\n",
      "foreign nations; political parties\n"
     ]
    }
   ],
   "source": [
    "text4.collocations()"
   ]
  },
  {
   "cell_type": "code",
   "execution_count": 27,
   "metadata": {
    "collapsed": false
   },
   "outputs": [
    {
     "name": "stdout",
     "output_type": "stream",
     "text": [
      "would like; medium build; social drinker; quiet nights; non smoker;\n",
      "long term; age open; Would like; easy going; financially secure; fun\n",
      "times; similar interests; Age open; weekends away; poss rship; well\n",
      "presented; never married; single mum; permanent relationship; slim\n",
      "build\n"
     ]
    }
   ],
   "source": [
    "text8.collocations()"
   ]
  },
  {
   "cell_type": "code",
   "execution_count": 30,
   "metadata": {
    "collapsed": false
   },
   "outputs": [
    {
     "name": "stdout",
     "output_type": "stream",
     "text": [
      "[2, 4, 4, 1, 5, 6, 5, 6, 4, 1, 3, 8, 10, 1, 4, 8, 5, 1, 7, 4, 2, 7, 3, 3, 5, 1, 2, 2, 6, 3, 1, 7, 8, 3, 5, 1, 1, 4, 4, 3, 3, 4, 1, 1, 1, 4, 4, 5, 7, 6, 3, 2, 4, 5, 2, 5, 5, 1, 3, 4, 1, 1, 1, 2, 2, 3, 8, 1, 5, 3, 2, 1, 2, 3, 1, 1, 4, 6, 1, 1, 1, 1, 4, 1, 12, 8, 4, 1, 4, 3, 1, 1, 4, 4, 1, 4, 5, 1, 4, 7, 1, 5, 11, 1, 4, 5, 1, 9, 7, 3, 4, 6, 3, 3, 6, 4, 1, 8, 4, 1, 2, 7, 1, 7, 6, 2, 7, 3, 2, 5, 1, 2, 4, 4, 2, 9, 1, 3, 1, 10, 4, 4, 5, 1, 7, 7, 2, 7, 4, 3, 3, 1, 4, 5, 3, 5, 1, 4, 5, 5, 1, 5, 3, 3, 5, 2, 4, 12, 4, 6, 2, 8, 3, 1, 3, 1, 6, 11, 3, 3, 5, 2, 4, 2, 1, 1, 1, 4, 3, 1, 4, 2, 4, 2, 5, 1, 5, 2, 5, 7, 3, 10, 8, 1, 2, 2, 4, 1, 3, 5, 1, 4, 1, 4, 5, 3, 7, 3, 7, 7, 1, 3, 4, 2, 12, 1, 7, 2, 1, 1, 1, 1, 9, 4, 8, 10, 1, 3, 2, 1, 6, 5, 1, 8, 1, 5, 7, 1, 2, 8, 1, 6, 6, 1, 5, 1, 5, 1, 5, 1, 1, 1, 5, 2, 6, 1, 10, 4, 4, 1, 8, 10, 1, 7, 8, 1, 3, 5, 4, 2, 3, 7, 3, 4, 4, 4, 2, 3, 6, 1, 2, 1, 2, 1, 1, 1, 1, 6, 3, 1, 6, 3, 6, 2, 8, 1, 3, 3, 1, 6, 7, 1, 1, 2, 2, 1, 1, 1, 1, 3, 7, 3, 13, 1, 10, 1, 1, 5, 3, 3, 1, 7, 3, 6, 3, 1, 10, 2, 1, 1, 1, 1, 2, 1, 6, 5, 1, 11, 6, 1, 2, 8, 1, 5, 10, 4, 2, 2, 2, 1, 1, 1, 1, 4, 2, 8, 1, 1, 5, 3, 5, 1, 6, 3, 5, 1, 4, 2, 9, 12, 1, 10, 3, 4, 3, 1, 2, 1, 6, 1, 4, 7, 1, 5, 1, 6, 1, 6, 7, 1, 5, 3, 5, 6, 3, 10, 3, 3, 1, 6, 2, 5, 5, 1, 5, 5, 1, 6, 1, 5, 2, 3, 5, 1, 6, 1, 5, 4, 2, 4, 4, 3, 10, 4, 12, 1, 10, 6, 2, 4, 2, 1, 1, 1, 1, 3, 1, 6, 4, 2, 1, 5, 4, 1, 6, 4, 3, 5, 8, 3, 9, 2, 10, 2, 7, 4, 2, 4, 9, 1, 3, 4, 2, 2, 1, 10, 1, 4, 1, 3, 1, 2, 1, 1, 1, 5, 4, 1, 5, 1, 7, 1, 5, 3, 3, 4, 1, 1, 1, 3, 2, 2, 4, 1, 7, 3, 1, 3, 6, 1, 4, 7, 2, 1, 2, 1, 4, 2, 7, 3, 4, 3, 1, 8, 12, 1, 9, 1, 11, 6, 1, 7, 3, 1, 4, 3, 1, 4, 2, 1, 4, 6, 4, 3, 5, 2, 5, 7, 1, 2, 4, 2, 3, 4, 1, 4, 3, 1, 6, 4, 1, 4, 4, 6, 5, 1, 2, 2, 2, 5, 3, 1, 2, 6, 1, 6, 1, 5, 7, 1, 7, 1, 4, 1, 4, 6, 1, 2, 3, 4, 1, 5, 6, 2, 4, 1, 7, 3, 8, 2, 2, 1, 7, 6, 2, 2, 4, 1, 7, 3, 1, 6, 1, 6, 4, 3, 10, 2, 12, 1, 11, 2, 2, 3, 7, 3, 4, 1, 3, 1, 6, 1, 2, 2, 6, 4, 8, 7, 1, 2, 4, 1, 2, 8, 2, 6, 3, 5, 7, 6, 1, 4, 1, 5, 3, 3, 6, 1, 6, 1, 4, 4, 1, 1, 1, 1, 1, 1, 3, 4, 6, 7, 1, 6, 4, 7, 4, 2, 4, 6, 2, 10, 4, 1, 5, 3, 1, 11, 6, 1, 3, 1, 7, 1, 3, 6, 1, 3, 9, 12, 1, 3, 6, 9, 2, 1, 1, 1, 1, 4, 1, 1, 2, 1, 1, 3, 1, 5, 1, 3, 3, 7, 1, 5, 8, 2, 4, 1, 3, 6, 1, 5, 7, 1, 7, 6, 6, 1, 3, 1, 10, 1, 2, 1, 2, 3, 1, 2, 4, 5, 1, 4, 7, 1, 9, 12, 1, 4, 2, 1, 4, 4, 4, 1, 4, 1, 7, 3, 6, 2, 2, 2, 4, 1, 4, 5, 2, 6, 1, 2, 8, 3, 4, 6, 1, 7, 1, 7, 3, 5, 1, 4, 2, 1, 4, 1, 2, 7, 3, 1, 4, 4, 7, 9, 1, 4, 7, 2, 1, 2, 3, 10, 1, 8, 12, 1, 7, 10, 3, 2, 1, 1, 1, 2, 2, 4, 1, 6, 1, 1, 2, 1, 1, 1, 4, 5, 1, 1, 5, 8, 1, 3, 1, 5, 1, 7, 6, 3, 5, 6, 2, 4, 1, 7, 2, 6, 1, 6, 5, 1, 4, 2, 3, 1, 5, 1, 3, 6, 3, 6, 6, 2, 4, 1, 3, 4, 1, 4, 8, 4, 8, 1, 4, 1, 4, 4, 1, 5, 4, 1, 3, 3, 1, 4, 7, 1, 6, 1, 1, 6, 1, 5, 6, 1, 6, 1, 6, 2, 1, 5, 3, 9, 1, 3, 8, 1, 5, 1, 7, 3, 7, 2, 8, 2, 6, 7, 1, 3, 4, 1, 10, 1, 12, 1, 5, 1, 4, 1, 4, 5, 3, 1, 2, 1, 4, 5, 1, 3, 1, 6, 1, 6, 6, 3, 1, 6, 1, 4, 2, 8, 3, 5, 6, 2, 4, 1, 7, 4, 1, 10, 6, 1, 2, 1, 2, 4, 7, 9, 3, 6, 4, 1, 12, 1, 8, 11, 4, 1, 4, 1, 11, 1, 5, 8, 1, 3, 3, 1, 7, 3, 6, 4, 3, 5, 2, 6, 3, 7, 1, 5, 6, 3, 12, 3, 2, 7, 3, 1, 7, 7, 12, 1, 4, 1, 2, 4, 2, 1, 4, 2, 1, 3, 4, 1, 4, 4, 9, 2, 1, 2, 1, 1, 1, 1, 2, 10, 3, 1, 3, 1, 6, 1, 6, 7, 1, 3, 3, 6, 1, 2, 7, 1, 4, 1, 6, 4, 3, 10, 1, 12, 1, 9, 5, 6, 10, 1, 1, 3, 3, 7, 2, 1, 1, 1, 1, 7, 3, 1, 9, 4, 1, 4, 13, 1, 12, 7, 3, 6, 5, 4, 2, 4, 2, 10, 1, 3, 1, 7, 3, 6, 4, 2, 1, 2, 3, 10, 4, 2, 9, 12, 4, 4, 2, 2, 1, 4, 6, 1, 4, 1, 4, 1, 9, 1, 5, 1, 7, 1, 6, 1, 3, 1, 3, 5, 3, 3, 11, 1, 7, 6, 4, 7, 9, 2, 5, 8, 1, 6, 3, 1, 8, 3, 4, 3, 1, 5, 4, 1, 2, 1, 2, 1, 4, 11, 3, 3, 3, 4, 5, 1, 7, 4, 4, 2, 4, 4, 4, 3, 4, 4, 7, 6, 1, 7, 6, 2, 3, 1, 5, 7, 1, 4, 4, 5, 2, 6, 1, 3, 1, 6, 1, 3, 4, 1, 8, 2, 1, 1, 1, 1, 4, 3, 5, 1, 5, 6, 1, 6, 1, 5, 1, 7, 6, 1, 5, 6, 1, 5, 8, 2, 1, 2, 4, 3, 4, 3, 12, 1, 5, 2, 7, 6, 2, 8, 7, 1, 4, 1, 10, 4, 3, 2, 4, 1, 4, 2, 5, 1, 4, 5, 4, 1, 5, 2, 6, 1, 13, 1, 4, 6, 9, 5, 7, 6, 3, 10, 1, 12, 1, 3, 7, 5, 1, 10, 3, 6, 1, 5, 7, 1, 11, 6, 1, 5, 10, 4, 3, 7, 12, 1, 6, 3, 7, 1, 4, 2, 2, 2, 1, 5, 5, 2, 2, 1, 4, 8, 12, 1, 4, 11, 1, 2, 1, 4, 5, 1, 2, 4, 1, 4, 9, 4, 1, 6, 4, 1, 4, 1, 5, 3, 3, 1, 5, 3, 7, 5, 5, 2, 4, 4, 12, 4, 4, 1, 6, 4, 1, 3, 3, 2, 2, 2, 5, 1, 2, 2, 3, 4, 1, 5, 2, 1, 2, 2, 6, 3, 10, 1, 12, 1, 4, 2, 1, 7, 7, 2, 2, 4, 1, 5, 1, 8, 1, 7, 1, 8, 7, 6, 3, 1, 1, 2, 1, 2, 2, 1, 9, 1, 8, 1, 2, 4, 3, 7, 4, 3, 1, 5, 4, 2, 4, 10, 4, 3, 4, 4, 12, 1, 7, 9, 6, 3, 4, 1, 4, 9, 1, 2, 1, 1, 1, 1, 7, 3, 1, 7, 4, 3, 1, 7, 2, 1, 1, 1, 1, 4, 3, 1, 9, 1, 2, 1, 5, 6, 1, 3, 6, 4, 1, 2, 1, 5, 2, 4, 10, 1, 2, 1, 2, 1, 1, 1, 1, 3, 1, 1, 5, 4, 1, 3, 1, 6, 4, 1, 1, 1, 1, 1, 3, 7, 1, 7, 3, 5, 1, 5, 4, 5, 2, 6, 4, 1, 2, 1, 2, 5, 1, 8, 4, 7, 3, 2, 2, 5, 7, 2, 4, 3, 3, 3, 10, 1, 4, 7, 11, 7, 3, 2, 4, 2, 4, 4, 7, 5, 3, 12, 1, 2, 4, 1, 3, 1, 1, 1, 1, 1, 1, 1, 1, 1, 5, 3, 1, 6, 1, 8, 1, 6, 5, 3, 5, 4, 1, 4, 1, 3, 1, 5, 4, 2, 1, 2, 1, 8, 2, 1, 5, 1, 4, 5, 1, 7, 7, 4, 1, 3, 1, 4, 2, 7, 1, 3, 6, 1, 5, 1, 1, 1, 1, 1, 1, 1, 1, 4, 10, 6, 4, 1, 4, 2, 3, 5, 3, 7, 1, 8, 4, 3, 4, 4, 5, 1, 2, 6, 1, 11, 3, 3, 4, 1, 10, 4, 1, 4, 1, 1, 1, 1, 1, 4, 2, 8, 4, 6, 2, 1, 2, 3, 3, 4, 4, 4, 4, 1, 6, 3, 4, 3, 5, 3, 6, 2, 2, 3, 1, 4, 6, 9, 4, 4, 5, 5, 1, 1, 2, 7, 1, 11, 4, 4, 1, 4, 1, 8, 3, 1, 5, 8, 3, 6, 6, 3, 1, 5, 1, 8, 4, 4, 6, 3, 11, 1, 6, 6, 1, 5, 1, 7, 1, 5, 6, 1, 4, 4, 2, 5, 7, 4, 4, 2, 9, 2, 8, 3, 5, 1, 4, 5, 2, 3, 1, 4, 1, 1, 1, 1, 1, 1, 1, 1, 1, 5, 1, 5, 6, 3, 7, 1, 7, 7, 2, 7, 4, 4, 3, 3, 1, 6, 4, 5, 1, 5, 1, 8, 5, 1, 9, 2, 6, 1, 5, 7, 1, 5, 4, 1, 9, 1, 4, 4, 6, 1, 3, 7, 1, 5, 4, 2, 4, 1, 4, 2, 5, 4, 4, 2, 1, 2, 1, 3, 1, 3, 5, 1, 3, 1, 5, 5, 3, 2, 4, 1, 4, 10, 1, 5, 3, 1, 3, 6, 1, 5, 7, 1, 4, 1, 1, 1, 1, 1, 1, 1, 1, 1, 7, 1, 2, 1, 2, 3, 5, 1, 4, 5, 1, 5, 2, 6, 1, 1, 1, 5, 1, 1, 1, 4, 1, 5, 4, 1, 3, 2, 1, 5, 1, 4, 2, 5, 3, 1, 2, 5, 1, 5, 3, 5, 4, 2, 5, 1, 7, 1, 5, 2, 8, 6, 10, 7, 5, 8, 7, 1, 2, 2, 6, 5, 1, 3, 4, 12, 4, 1, 4, 1, 3, 1, 3, 1, 3, 2, 4, 3, 6, 7, 1, 6, 1, 8, 1, 5, 2, 3, 1, 7, 4, 5, 9, 1, 7, 9, 5, 3, 5, 1, 4, 2, 5, 1, 3, 2, 4, 1, 6, 1, 1, 1, 1, 1, 5, 1, 4, 1, 5, 3, 1, 11, 1, 5, 3, 5, 6, 4, 6, 3, 2, 2, 8, 1, 5, 1, 8, 7, 1, 4, 3, 6, 1, 5, 1, 4, 5, 1, 4, 7, 1, 6, 4, 2, 5, 4, 4, 1, 2, 3, 2, 2, 3, 1, 4, 1, 4, 5, 1, 6, 1, 8, 1, 4, 6, 1, 1, 4, 5, 1, 3, 5, 1, 7, 1, 3, 8, 1, 6, 1, 5, 1, 6, 3, 1, 2, 1, 1, 1, 1, 1, 1, 1, 1, 1, 7, 3, 5, 3, 1, 4, 5, 1, 5, 4, 2, 1, 6, 2, 6, 4, 2, 3, 1, 1, 4, 8, 1, 1, 4, 5, 4, 6, 1, 4, 2, 2, 1, 4, 6, 1, 4, 1, 6, 3, 1, 5, 4, 4, 4, 6, 2, 11, 4, 3, 3, 1, 1, 4, 1, 1, 4, 8, 4, 4, 3, 4, 3, 5, 8, 4, 3, 4, 4, 3, 3, 3, 3, 5, 1, 7, 2, 1, 4, 2, 1, 2, 1, 4, 1, 3, 1, 6, 5, 2, 1, 1, 10, 5, 4, 4, 3, 6, 8, 4, 6, 6, 2, 1, 2, 6, 3, 4, 4, 5, 1, 5, 4, 1, 8, 1, 2, 1, 1, 1, 2, 4, 1, 11, 2, 1, 1, 1, 1, 1, 1, 1, 5, 4, 3, 4, 3, 1, 1, 4, 1, 1, 4, 2, 1, 4, 8, 2, 4, 4, 5, 3, 8, 1, 8, 4, 3, 5, 7, 6, 5, 8, 4, 4, 2, 3, 1, 7, 1, 1, 1, 5, 4, 4, 1, 1, 1, 1, 4, 6, 6, 1, 8, 1, 5, 6, 6, 2, 2, 2, 1, 6, 4, 7, 3, 4, 1, 5, 6, 4, 2, 1, 2, 8, 3, 1, 1, 4, 6, 8, 7, 8, 2, 10, 4, 7, 1, 8, 4, 2, 1, 5, 7, 8, 4, 3, 1, 1, 4, 1, 3, 4, 7, 4, 5, 4, 7, 6, 3, 8, 9, 1, 4, 1, 2, 2, 1, 1, 5, 4, 4, 1, 9, 1, 4, 1, 3, 4, 4, 5, 1, 5, 1, 5, 4, 5, 5, 4, 2, 1, 2, 3, 5, 1, 5, 5, 3, 2, 1, 7, 5, 4, 2, 2, 4, 5, 4, 4, 2, 2, 1, 5, 4, 2, 2, 5, 3, 4, 4, 12, 4, 7, 4, 5, 6, 4, 3, 1, 1, 4, 1, 10, 3, 4, 4, 2, 2, 8, 2, 4, 3, 4, 2, 2, 7, 4, 1, 4, 3, 3, 8, 1, 9, 6, 3, 3, 1, 10, 1, 8, 3, 1, 4, 4, 1, 1, 4, 1, 2, 5, 2, 2, 9, 2, 4, 1, 4, 2, 4, 1, 1, 1, 5, 6, 5, 3, 3, 3, 5, 5, 4, 7, 1, 4, 2, 7, 7, 4, 1, 1, 1, 3, 4, 3, 1, 1, 4, 8, 1, 1, 4, 4, 2, 1, 5, 6, 5, 8, 5, 3, 7, 1, 1, 1, 1, 1, 1, 1, 1, 4, 1, 3, 4, 3, 2, 2, 1, 7, 3, 2, 7, 8, 3, 5, 1, 7, 8, 5, 4, 3, 6, 3, 3, 3, 7, 4, 3, 2, 2, 1, 4, 7, 3, 1, 5, 4, 2, 7, 8, 7, 3, 2, 1, 6, 1, 3, 1, 5, 4, 2, 1, 2, 2, 5, 7, 5, 1, 2, 5, 8, 3, 5, 4, 4, 4, 5, 4, 4, 7, 4, 2, 3, 7, 1, 3, 5, 4, 4, 1, 1, 1, 2, 1, 2, 1, 1, 4, 3, 4, 5, 4, 4, 2, 1, 2, 7, 5, 1, 3, 2, 10, 3, 1, 9, 1, 3, 4, 1, 5, 4, 2, 4, 10, 3, 7, 6, 1, 3, 6, 3, 4, 1, 9, 7, 5, 5, 2, 4, 4, 3, 4, 5, 1, 4, 2, 1, 4, 3, 2, 4, 6, 5, 4, 4, 1, 1, 1, 3, 4, 10, 1, 7, 2, 5, 10, 5, 3, 8, 8, 10, 4, 7, 4, 5, 7, 4, 3, 8, 6, 1, 6, 3, 4, 1, 3, 1, 2, 2, 1, 4, 1, 8, 1, 6, 1, 7, 1, 6, 5, 6, 1, 4, 6, 6, 3, 2, 1, 2, 3, 3, 6, 1, 4, 4, 6, 4, 2, 5, 6, 2, 1, 2, 3, 3, 8, 4, 6, 4, 2, 5, 2, 4, 3, 1, 1, 4, 8, 1, 1, 4, 4, 2, 6, 4, 7, 2, 2, 5, 2, 1, 4, 6, 1, 1, 4, 1, 3, 7, 2, 4, 10, 2, 7, 3, 3, 4, 5, 1, 5, 10, 4, 1, 4, 4, 1, 5, 7, 4, 3, 2, 2, 4, 1, 2, 3, 5, 5, 2, 7, 3, 3, 3, 5, 4, 5, 1, 6, 3, 1, 2, 1, 4, 3, 1, 1, 1, 1, 5, 5, 2, 1, 3, 1, 1, 4, 12, 4, 4, 4, 1, 3, 2, 2, 1, 4, 1, 12, 1, 5, 1, 5, 4, 2, 1, 2, 1, 1, 1, 4, 4, 2, 2, 6, 4, 3, 1, 2, 4, 4, 1, 7, 3, 3, 4, 1, 4, 1, 5, 7, 4, 1, 7, 5, 1, 5, 5, 10, 5, 5, 2, 6, 2, 4, 7, 3, 3, 1, 2, 2, 3, 4, 3, 4, 7, 3, 4, 3, 5, 1, 7, 1, 11, 2, 5, 4, 7, 3, 7, 3, 7, 8, 1, 6, 1, 1, 5, 4, 8, 6, 2, 2, 8, 4, 5, 4, 6, 8, 7, 2, 4, 1, 6, 1, 5, 3, 1, 2, 4, 1, 4, 9, 8, 2, 4, 1, 1, 1, 1, 5, 4, 2, 2, 3, 1, 1, 4, 1, 6, 4, 7, 1, 7, 2, 2, 4, 5, 1, 7, 2, 1, 2, 4, 3, 1, 1, 4, 12, 6, 3, 6, 2, 2, 4, 4, 1, 1, 1, 1, 4, 11, 6, 5, 5, 1, 10, 4, 2, 1, 2, 3, 1, 1, 4, 4, 4, 1, 1, 4, 4, 7, 1, 14, 5, 4, 3, 3, 5, 4, 3, 3, 4, 5, 4, 4, 4, 1, 10, 1, 4, 5, 1, 6, 4, 3, 7, 5, 4, 1, 2, 1, 2, 1, 1, 1, 3, 1, 1, 4, 1, 1, 4, 1, 3, 4, 3, 5, 4, 1, 3, 3, 3, 8, 10, 7, 1, 6, 4, 4, 7, 3, 1, 6, 2, 1, 4, 1, 1, 1, 4, 1, 6, 5, 2, 5, 6, 6, 4, 7, 4, 1, 6, 4, 5, 3, 5, 2, 3, 1, 1, 4, 1, 6, 1, 8, 1, 6, 1, 7, 1, 8, 1, 5, 2, 1, 2, 6, 2, 6, 3, 3, 1, 1, 3, 1, 1, 4, 1, 1, 4, 4, 2, 4, 7, 4, 4, 2, 1, 2, 8, 2, 5, 4, 7, 1, 4, 2, 7, 3, 4, 4, 3, 6, 3, 1, 3, 1, 4, 4, 1, 7, 2, 3, 10, 7, 1, 3, 7, 3, 5, 3, 3, 7, 2, 8, 7, 7, 3, 7, 5, 3, 4, 3, 3, 7, 4, 3, 2, 5, 7, 4, 2, 1, 2, 3, 8, 5, 1, 3, 1, 4, 1, 7, 3, 4, 3, 1, 3, 1, 5, 4, 3, 8, 3, 8, 1, 3, 2, 2, 1, 6, 3, 1, 3, 1, 2, 5, 4, 1, 5, 7, 2, 4, 1, 3, 1, 4, 1, 3, 3, 6, 2, 2, 5, 1, 1, 5, 4, 2, 4, 1, 4, 1, 6, 1, 8, 7, 3, 6, 5, 6, 3, 2, 5, 3, 10, 5, 4, 6, 2, 2, 4, 3, 10, 8, 4, 4, 4, 2, 8, 7, 3, 1, 9, 1, 5, 6, 1, 1, 4, 4, 4, 2, 1, 2, 5, 4, 2, 4, 3, 7, 3, 7, 5, 1, 5, 8, 1, 6, 1, 6, 3, 3, 10, 1, 2, 1, 7, 3, 2, 2, 4, 3, 1, 3, 6, 1, 6, 7, 1, 6, 5, 1, 4, 7, 1, 6, 1, 7, 3, 4, 10, 4, 1, 4, 2, 6, 5, 1, 5, 2, 3, 1, 4, 2, 3, 6, 1, 4, 3, 2, 5, 4, 3, 3, 5, 4, 1, 8, 12, 1, 1, 6, 5, 7, 3, 1, 4, 1, 3, 2, 1, 3, 6, 1, 2, 1, 2, 1, 4, 2, 6, 5, 1, 3, 5, 4, 5, 1, 10, 12, 1, 5, 1, 3, 1, 6, 3, 4, 1, 1, 2, 1, 1, 6, 5, 4, 1, 5, 4, 1, 9, 1, 6, 3, 8, 7, 11, 1, 1, 1, 1, 1, 1, 2, 1, 2, 1, 2, 3, 1, 5, 1, 8, 1, 11, 1, 9, 1, 10, 1, 11, 1, 4, 8, 1, 4, 1, 4, 5, 1, 4, 4, 1, 5, 9, 3, 3, 5, 6, 2, 4, 1, 5, 4, 4, 4, 8, 2, 2, 1, 1, 1, 1, 5, 2, 1, 2, 9, 1, 4, 8, 1, 3, 1, 6, 5, 1, 6, 1, 6, 7, 1, 7, 4, 1, 6, 5, 5, 3, 2, 5, 2, 4, 1, 3, 4, 1, 6, 2, 5, 1, 2, 1, 1, 1, 4, 5, 1, 3, 1, 6, 1, 6, 7, 1, 6, 8, 7, 1, 1, 5, 1, 7, 1, 6, 9, 1, 9, 3, 1, 6, 1, 6, 1, 6, 3, 1, 6, 3, 5, 6, 2, 4, 1, 7, 2, 12, 1, 4, 1, 4, 5, 4, 2, 2, 5, 3, 12, 1, 8, 5, 4, 7, 1, 6, 1, 6, 7, 3, 1, 2, 1, 1, 1, 1, 3, 1, 5, 1, 1, 2, 1, 1, 2, 6, 3, 7, 1, 5, 4, 1, 7, 1, 7, 1, 6, 3, 1, 7, 7, 2, 1, 2, 1, 1, 1, 1, 4, 3, 6, 3, 8, 3, 7, 4, 1, 11, 2, 1, 1, 1, 1, 9, 1, 3, 6, 1, 10, 1, 4, 1, 3, 2, 4, 9, 1, 5, 6, 1, 5, 4, 2, 5, 2, 1, 2, 1, 1, 1, 2, 4, 1, 3, 6, 1, 4, 7, 4, 1, 7, 1, 5, 3, 5, 1, 2, 4, 2, 1, 6, 1, 8, 1, 4, 7, 1, 5, 4, 4, 1, 10, 2, 3, 1, 10, 1, 7, 1, 2, 3, 7, 3, 5, 5, 1, 10, 1, 5, 3, 3, 6, 1, 6, 3, 10, 1, 2, 1, 1, 1, 1, 8, 8, 12, 5, 1, 5, 12, 1, 8, 3, 1, 4, 9, 2, 7, 1, 6, 1, 5, 1, 4, 12, 3, 1, 5, 2, 2, 1, 1, 1, 1, 4, 1, 1, 2, 1, 1, 3, 6, 1, 6, 7, 1, 1, 5, 9, 1, 5, 1, 6, 1, 7, 1, 6, 3, 3, 5, 6, 2, 4, 1, 2, 5, 6, 1, 1, 2, 2, 9, 1, 6, 3, 6, 6, 1, 7, 9, 2, 1, 2, 3, 10, 4, 4, 2, 12, 1, 10, 8, 4, 4, 3, 1, 7, 4, 1, 2, 1, 2, 1, 10, 2, 4, 10, 4, 6, 9, 1, 8, 2, 1, 2, 1, 2, 4, 1, 7, 6, 5, 1, 3, 4, 8, 1, 6, 4, 4, 1, 10, 2, 2, 3, 4, 9, 1, 4, 2, 5, 1, 1, 5, 10, 1, 6, 1, 6, 1, 6, 1, 8, 4, 1, 7, 4, 2, 1, 2, 4, 7, 9, 1, 10, 4, 5, 11, 1, 4, 1, 6, 5, 1, 1, 2, 1, 1, 1, 7, 6, 1, 8, 5, 1, 8, 3, 11, 1, 7, 1, 11, 4, 2, 1, 2, 4, 9, 3, 4, 6, 1, 3, 1, 6, 1, 6, 7, 1, 8, 2, 1, 8, 7, 7, 7, 7, 2, 1, 3, 3, 1, 2, 2, 8, 3, 5, 4, 5, 5, 4, 2, 5, 7, 5, 1, 3, 4, 2, 6, 4, 1, 3, 2, 5, 3, 13, 1, 4, 2, 1, 10, 1, 4, 4, 5, 7, 7, 10, 2, 1, 1, 1, 1, 8, 6, 2, 8, 5, 7, 6, 1, 4, 5, 1, 2, 1, 2, 2, 4, 1, 5, 6, 1, 3, 6, 1, 6, 4, 6, 6, 6, 3, 6, 7, 3, 13, 1, 5, 7, 7, 2, 5, 1, 2, 3, 4, 2, 5, 1, 3, 6, 3, 8, 1, 1, 5, 9, 1, 4, 1, 6, 3, 1, 5, 7, 1, 1, 1, 7, 3, 3, 4, 1, 4, 5, 7, 1, 10, 5, 7, 2, 12, 1, 5, 2, 2, 1, 7, 11, 1, 4, 1, 1, 1, 1, 1, 1, 3, 1, 6, 1, 6, 7, 1, 9, 7, 5, 5, 1, 6, 1, 7, 1, 7, 1, 7, 3, 4, 3, 4, 1, 6, 6, 7, 1, 8, 7, 1, 10, 4, 2, 12, 1, 9, 2, 1, 1, 1, 1, 3, 1, 1, 2, 1, 4, 3, 2, 5, 5, 5, 1, 4, 3, 1, 1, 2, 1, 9, 1, 6, 7, 1, 6, 6, 2, 1, 2, 4, 3, 3, 1, 5, 2, 4, 1, 6, 4, 1, 1, 5, 10, 4, 3, 1, 7, 4, 4, 1, 7, 3, 4, 1, 8, 1, 3, 3, 2, 5, 2, 1, 3, 1, 6, 1, 11, 6, 3, 8, 6, 1, 11, 6, 2, 4, 5, 2, 1, 6, 1, 3, 3, 3, 9, 1, 1, 5, 5, 2, 1, 4, 2, 7, 1, 6, 5, 2, 1, 1, 2, 2, 4, 1, 4, 1, 2, 2, 1, 1, 2, 1, 1, 1, 4, 1, 3, 2, 5, 1, 1, 1, 1, 1, 1, 1, 1, 1, 9, 1, 6, 3, 1, 6, 1, 9, 2, 5, 6, 2, 4, 1, 5, 2, 5, 1, 9, 5, 9, 3, 2, 6, 1, 7, 3, 10, 1, 5, 4, 2, 12, 1, 7, 6, 3, 1, 2, 2, 1, 1, 1, 2, 1, 2, 1, 1, 1, 3, 1, 5, 1, 8, 1, 3, 6, 4, 4, 1, 4, 3, 1, 5, 6, 1, 6, 3, 1, 7, 6, 1, 5, 5, 1, 5, 2, 1, 2, 1, 6, 3, 4, 4, 3, 1, 7, 9, 1, 10, 4, 1, 8, 4, 1, 8, 4, 1, 4, 8, 4, 10, 2, 1, 1, 1, 2, 6, 5, 1, 3, 5, 4, 3, 6, 3, 5, 7, 7, 4, 2, 5, 1, 2, 8, 3, 1, 4, 5, 1, 7, 5, 6, 1, 5, 5, 2, 3, 5, 1, 5, 4, 2, 4, 1, 4, 8, 1, 3, 2, 1, 2, 1, 1, 1, 1, 5, 2, 9, 2, 1, 2, 2, 2, 2, 1, 3, 1, 1, 1, 1, 1, 7, 1, 10, 1, 5, 6, 1, 7, 1, 6, 1, 1, 1, 1, 1, 4, 9, 1, 1, 4, 1, 4, 1, 6, 8, 1, 6, 4, 1, 5, 4, 2, 5, 1, 6, 6, 4, 3, 1, 6, 1, 9, 1, 8, 7, 1, 11, 7, 1, 4, 4, 1, 7, 1, 4, 4, 1, 5, 9, 4, 4, 3, 1, 2, 1, 10, 5, 1, 7, 4, 12, 3, 7, 1, 2, 9, 3, 1, 9, 1, 5, 1, 6, 3, 6, 5, 1, 12, 5, 6, 1, 5, 4, 4, 1, 2, 1, 2, 3, 7, 12, 1, 8, 1, 4, 1, 4, 1, 4, 4, 4, 3, 6, 4, 1, 6, 2, 1, 3, 1, 6, 1, 4, 6, 1, 3, 6, 1, 9, 1, 6, 1, 4, 2, 8, 1, 6, 1, 3, 6, 1, 4, 3, 4, 1, 2, 1, 4, 7, 1, 6, 1, 6, 3, 6, 3, 3, 5, 1, 4, 5, 1, 1, 1, 1, 1, 1, 1, 1, 1, 4, 1, 5, 3, 1, 1, 4, 10, 4, 1, 2, 3, 5, 7, 3, 1, 4, 9, 2, 2, 7, 4, 1, 5, 2, 5, 7, 5, 7, 2, 3, 3, 5, 1, 1, 4, 4, 10, 2, 8, 3, 4, 1, 4, 2, 4, 3, 2, 1, 2, 3, 7, 3, 5, 1, 1, 1, 1, 1, 1, 1, 1, 1, 6, 6, 1, 6, 3, 3, 6, 7, 5, 1, 5, 11, 1, 4, 2, 1, 4, 1, 4, 3, 6, 4, 1, 8, 9, 1, 5, 6, 1, 4, 1, 7, 4, 1, 10, 2, 7, 1, 7, 1, 4, 3, 1, 10, 6, 1, 4, 1, 2, 4, 9, 1, 4, 4, 3, 6, 1, 5, 1, 5, 7, 1, 6, 3, 1, 6, 1, 4, 3, 4, 1, 1, 1, 1, 1, 4, 2, 3, 1, 6, 1, 2, 3, 5, 4, 2, 4, 1, 6, 1, 4, 4, 6, 5, 4, 1, 5, 2, 4, 1, 7, 7, 1, 4, 4, 9, 3, 1, 5, 3, 1, 8, 1, 11, 1, 11, 1, 4, 7, 1, 7, 9, 1, 5, 1, 5, 1, 5, 1, 7, 1, 6, 1, 4, 3, 1, 4, 1, 1, 1, 4, 4, 3, 1, 3, 2, 5, 7, 1, 4, 5, 1, 3, 4, 1, 1, 1, 1, 1, 1, 1, 1, 1, 3, 3, 1, 7, 2, 4, 3, 1, 6, 1, 6, 1, 3, 11, 3, 2, 2, 4, 1, 4, 5, 4, 3, 3, 4, 2, 7, 1, 4, 2, 11, 4, 10, 1, 5, 3, 1, 4, 3, 9, 1, 13, 4, 4, 5, 2, 6, 3, 5, 2, 6, 1, 1, 1, 3, 7, 1, 1, 1, 6, 7, 1, 1, 1, 6, 6, 1, 1, 1, 3, 6, 3, 3, 7, 8, 4, 5, 4, 2, 4, 4, 4, 2, 5, 4, 6, 2, 3, 4, 2, 9, 2, 7, 5, 1]\n"
     ]
    }
   ],
   "source": [
    "print([len(w) for w in text8])"
   ]
  },
  {
   "cell_type": "code",
   "execution_count": 34,
   "metadata": {
    "collapsed": false
   },
   "outputs": [
    {
     "data": {
      "text/plain": [
       "FreqDist({1: 47933,\n",
       "          2: 38513,\n",
       "          3: 50223,\n",
       "          4: 42345,\n",
       "          5: 26597,\n",
       "          6: 17111,\n",
       "          7: 14399,\n",
       "          8: 9966,\n",
       "          9: 6428,\n",
       "          10: 3528,\n",
       "          11: 1873,\n",
       "          12: 1053,\n",
       "          13: 567,\n",
       "          14: 177,\n",
       "          15: 70,\n",
       "          16: 22,\n",
       "          17: 12,\n",
       "          18: 1,\n",
       "          20: 1})"
      ]
     },
     "execution_count": 34,
     "metadata": {},
     "output_type": "execute_result"
    }
   ],
   "source": [
    "#check the length of each word in text1\n",
    "fdist = FreqDist(len(w) for w in text1)\n",
    "fdist"
   ]
  },
  {
   "cell_type": "code",
   "execution_count": 36,
   "metadata": {
    "collapsed": false
   },
   "outputs": [
    {
     "name": "stdout",
     "output_type": "stream",
     "text": [
      "[(3, 50223), (1, 47933), (4, 42345), (2, 38513), (5, 26597), (6, 17111), (7, 14399), (8, 9966), (9, 6428), (10, 3528), (11, 1873), (12, 1053), (13, 567), (14, 177), (15, 70), (16, 22), (17, 12), (18, 1), (20, 1)]\n",
      "3\n",
      "38513\n",
      "42345\n",
      "0.18377878912195814\n",
      "0.16235396961110962\n"
     ]
    }
   ],
   "source": [
    "print(fdist.most_common())\n",
    "print(fdist.max())\n",
    "print(fdist[2])\n",
    "print(fdist[4])\n",
    "print(fdist.freq(1))\n",
    "print(fdist.freq(4))"
   ]
  },
  {
   "cell_type": "code",
   "execution_count": 37,
   "metadata": {
    "collapsed": false
   },
   "outputs": [
    {
     "data": {
      "text/plain": [
       "['reasonableness',\n",
       " 'immutableness',\n",
       " 'honourableness',\n",
       " 'intolerableness',\n",
       " 'comfortableness',\n",
       " 'uncomfortableness',\n",
       " 'indomitableness',\n",
       " 'palpableness',\n",
       " 'indispensableness']"
      ]
     },
     "execution_count": 37,
     "metadata": {},
     "output_type": "execute_result"
    }
   ],
   "source": [
    "[w for w in set(text1) if w.endswith('ableness')]"
   ]
  },
  {
   "cell_type": "code",
   "execution_count": 38,
   "metadata": {
    "collapsed": false
   },
   "outputs": [
    {
     "data": {
      "text/plain": [
       "['uncomfortableness',\n",
       " 'comfortableness',\n",
       " 'intolerableness',\n",
       " 'immutableness',\n",
       " 'indomitableness',\n",
       " 'reasonableness',\n",
       " 'indispensableness',\n",
       " 'indomitableness',\n",
       " 'honourableness',\n",
       " 'palpableness']"
      ]
     },
     "execution_count": 38,
     "metadata": {},
     "output_type": "execute_result"
    }
   ],
   "source": [
    "[w for w in text1 if w.endswith('ableness')]"
   ]
  },
  {
   "cell_type": "markdown",
   "metadata": {},
   "source": [
    "End of Chapter 4, Chapter 5 starts\n",
    "This will be in file 3"
   ]
  },
  {
   "cell_type": "code",
   "execution_count": null,
   "metadata": {
    "collapsed": true
   },
   "outputs": [],
   "source": []
  },
  {
   "cell_type": "code",
   "execution_count": null,
   "metadata": {
    "collapsed": true
   },
   "outputs": [],
   "source": []
  }
 ],
 "metadata": {
  "kernelspec": {
   "display_name": "Python [Root]",
   "language": "python",
   "name": "Python [Root]"
  },
  "language_info": {
   "codemirror_mode": {
    "name": "ipython",
    "version": 3
   },
   "file_extension": ".py",
   "mimetype": "text/x-python",
   "name": "python",
   "nbconvert_exporter": "python",
   "pygments_lexer": "ipython3",
   "version": "3.5.2"
  }
 },
 "nbformat": 4,
 "nbformat_minor": 0
}
