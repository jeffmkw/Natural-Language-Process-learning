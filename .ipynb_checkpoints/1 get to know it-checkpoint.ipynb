{
 "cells": [
  {
   "cell_type": "code",
   "execution_count": 1,
   "metadata": {
    "collapsed": false,
    "scrolled": true
   },
   "outputs": [],
   "source": [
    "import nltk"
   ]
  },
  {
   "cell_type": "code",
   "execution_count": 2,
   "metadata": {
    "collapsed": false
   },
   "outputs": [
    {
     "name": "stdout",
     "output_type": "stream",
     "text": [
      "*** Introductory Examples for the NLTK Book ***\n",
      "Loading text1, ..., text9 and sent1, ..., sent9\n",
      "Type the name of the text or sentence to view it.\n",
      "Type: 'texts()' or 'sents()' to list the materials.\n",
      "text1: Moby Dick by Herman Melville 1851\n",
      "text2: Sense and Sensibility by Jane Austen 1811\n",
      "text3: The Book of Genesis\n",
      "text4: Inaugural Address Corpus\n",
      "text5: Chat Corpus\n",
      "text6: Monty Python and the Holy Grail\n",
      "text7: Wall Street Journal\n",
      "text8: Personals Corpus\n",
      "text9: The Man Who Was Thursday by G . K . Chesterton 1908\n"
     ]
    }
   ],
   "source": [
    "from nltk.book import *"
   ]
  },
  {
   "cell_type": "code",
   "execution_count": 3,
   "metadata": {
    "collapsed": false
   },
   "outputs": [
    {
     "data": {
      "text/plain": [
       "nltk.text.Text"
      ]
     },
     "execution_count": 3,
     "metadata": {},
     "output_type": "execute_result"
    }
   ],
   "source": [
    "type(text1)"
   ]
  },
  {
   "cell_type": "code",
   "execution_count": 6,
   "metadata": {
    "collapsed": false
   },
   "outputs": [
    {
     "data": {
      "text/plain": [
       "<Text: Moby Dick by Herman Melville 1851>"
      ]
     },
     "execution_count": 6,
     "metadata": {},
     "output_type": "execute_result"
    }
   ],
   "source": [
    "text1"
   ]
  },
  {
   "cell_type": "code",
   "execution_count": 12,
   "metadata": {
    "collapsed": false
   },
   "outputs": [
    {
     "name": "stdout",
     "output_type": "stream",
     "text": [
      "Displaying 25 of 322 matches:\n",
      " horse - whales , which had bones of very great value for their teeth , of whi\n",
      "n inward bruise .\" -- KING HENRY . \" Very like a whale .\" -- HAMLET . \" Which \n",
      "itself ,\" said Mr . Webster , \" is a very striking and peculiar portion of the\n",
      "egree , some time or other , cherish very nearly the same feelings towards the\n",
      "o eat and sleep meanwhile . It was a very dubious - looking , nay , a very dar\n",
      "s a very dubious - looking , nay , a very dark and dismal night , bitingly col\n",
      " to it , I thought that here was the very spot for cheap lodgings , and the be\n",
      "emned old craft . On one side hung a very large oilpainting so thoroughly besm\n",
      "mean ?\" \" Sartain , and that ' s the very reason he can ' t sell it , I guess \n",
      "hirt sleeves . But beginning to feel very cold now , half undressed as I was ,\n",
      "home at all that night , it being so very late , I made no more ado , but jump\n",
      "g - plaster shirt . Still more , his very legs were marked , as if a parcel of\n",
      "jambs and all the bricks inside were very sooty , so that I thought this fire \n",
      "t I thought this fire - place made a very appropriate little shrine or chapel \n",
      "shing the fire , he took the idol up very unceremoniously , and bagged it agai\n",
      " explain the mystery . Nay , to this very hour , I often puzzle myself with it\n",
      "g the supernatural hand in mine were very similar , in their strangeness , to \n",
      " under the circumstances , this is a very civilized overture ; but , the truth\n",
      "at top by donning his beaver hat , a very tall one , by the by , and then -- s\n",
      "t been a small degree civilized , he very probably would not have troubled him\n",
      " . At last , he emerged with his hat very much dented and crushed down over hi\n",
      "e window , and that the street being very narrow , the house opposite commande\n",
      " room accosted the grinning landlord very pleasantly . I cherished no malice t\n",
      "d of travel , I say , may not be the very best mode of attaining a high social\n",
      "towards him . But THAT was certainly very coolly done by him , and every one k\n"
     ]
    }
   ],
   "source": [
    "#check all appearance of the word very in text 1\n",
    "text1.concordance(\"very\")"
   ]
  },
  {
   "cell_type": "code",
   "execution_count": 13,
   "metadata": {
    "collapsed": false
   },
   "outputs": [
    {
     "name": "stdout",
     "output_type": "stream",
     "text": [
      "a same so last pretty first too other only the one strange great\n",
      "entire white rather as next queer is\n"
     ]
    }
   ],
   "source": [
    "#start of NLTK! Where people use such words in this position.\n",
    "text1.similar(\"very\")"
   ]
  },
  {
   "cell_type": "code",
   "execution_count": null,
   "metadata": {
    "collapsed": true
   },
   "outputs": [],
   "source": [
    "123\n",
    "\n",
    "12344"
   ]
  }
 ],
 "metadata": {
  "kernelspec": {
   "display_name": "Python 3",
   "language": "python",
   "name": "python3"
  },
  "language_info": {
   "codemirror_mode": {
    "name": "ipython",
    "version": 3
   },
   "file_extension": ".py",
   "mimetype": "text/x-python",
   "name": "python",
   "nbconvert_exporter": "python",
   "pygments_lexer": "ipython3",
   "version": "3.5.2"
  }
 },
 "nbformat": 4,
 "nbformat_minor": 0
}
