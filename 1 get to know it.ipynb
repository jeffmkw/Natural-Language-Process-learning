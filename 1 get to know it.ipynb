{
 "cells": [
  {
   "cell_type": "code",
   "execution_count": 1,
   "metadata": {
    "collapsed": false,
    "scrolled": true
   },
   "outputs": [],
   "source": [
    "import nltk"
   ]
  },
  {
   "cell_type": "code",
   "execution_count": 2,
   "metadata": {
    "collapsed": false
   },
   "outputs": [
    {
     "name": "stdout",
     "output_type": "stream",
     "text": [
      "*** Introductory Examples for the NLTK Book ***\n",
      "Loading text1, ..., text9 and sent1, ..., sent9\n",
      "Type the name of the text or sentence to view it.\n",
      "Type: 'texts()' or 'sents()' to list the materials.\n",
      "text1: Moby Dick by Herman Melville 1851\n",
      "text2: Sense and Sensibility by Jane Austen 1811\n",
      "text3: The Book of Genesis\n",
      "text4: Inaugural Address Corpus\n",
      "text5: Chat Corpus\n",
      "text6: Monty Python and the Holy Grail\n",
      "text7: Wall Street Journal\n",
      "text8: Personals Corpus\n",
      "text9: The Man Who Was Thursday by G . K . Chesterton 1908\n"
     ]
    }
   ],
   "source": [
    "from nltk.book import *"
   ]
  },
  {
   "cell_type": "code",
   "execution_count": 3,
   "metadata": {
    "collapsed": false
   },
   "outputs": [
    {
     "data": {
      "text/plain": [
       "nltk.text.Text"
      ]
     },
     "execution_count": 3,
     "metadata": {},
     "output_type": "execute_result"
    }
   ],
   "source": [
    "type(text1)"
   ]
  },
  {
   "cell_type": "code",
   "execution_count": 6,
   "metadata": {
    "collapsed": false
   },
   "outputs": [
    {
     "data": {
      "text/plain": [
       "<Text: Moby Dick by Herman Melville 1851>"
      ]
     },
     "execution_count": 6,
     "metadata": {},
     "output_type": "execute_result"
    }
   ],
   "source": [
    "text1"
   ]
  },
  {
   "cell_type": "code",
   "execution_count": 12,
   "metadata": {
    "collapsed": false
   },
   "outputs": [
    {
     "name": "stdout",
     "output_type": "stream",
     "text": [
      "Displaying 25 of 322 matches:\n",
      " horse - whales , which had bones of very great value for their teeth , of whi\n",
      "n inward bruise .\" -- KING HENRY . \" Very like a whale .\" -- HAMLET . \" Which \n",
      "itself ,\" said Mr . Webster , \" is a very striking and peculiar portion of the\n",
      "egree , some time or other , cherish very nearly the same feelings towards the\n",
      "o eat and sleep meanwhile . It was a very dubious - looking , nay , a very dar\n",
      "s a very dubious - looking , nay , a very dark and dismal night , bitingly col\n",
      " to it , I thought that here was the very spot for cheap lodgings , and the be\n",
      "emned old craft . On one side hung a very large oilpainting so thoroughly besm\n",
      "mean ?\" \" Sartain , and that ' s the very reason he can ' t sell it , I guess \n",
      "hirt sleeves . But beginning to feel very cold now , half undressed as I was ,\n",
      "home at all that night , it being so very late , I made no more ado , but jump\n",
      "g - plaster shirt . Still more , his very legs were marked , as if a parcel of\n",
      "jambs and all the bricks inside were very sooty , so that I thought this fire \n",
      "t I thought this fire - place made a very appropriate little shrine or chapel \n",
      "shing the fire , he took the idol up very unceremoniously , and bagged it agai\n",
      " explain the mystery . Nay , to this very hour , I often puzzle myself with it\n",
      "g the supernatural hand in mine were very similar , in their strangeness , to \n",
      " under the circumstances , this is a very civilized overture ; but , the truth\n",
      "at top by donning his beaver hat , a very tall one , by the by , and then -- s\n",
      "t been a small degree civilized , he very probably would not have troubled him\n",
      " . At last , he emerged with his hat very much dented and crushed down over hi\n",
      "e window , and that the street being very narrow , the house opposite commande\n",
      " room accosted the grinning landlord very pleasantly . I cherished no malice t\n",
      "d of travel , I say , may not be the very best mode of attaining a high social\n",
      "towards him . But THAT was certainly very coolly done by him , and every one k\n"
     ]
    }
   ],
   "source": [
    "#check all appearance of the word very in text 1\n",
    "text1.concordance(\"very\")"
   ]
  },
  {
   "cell_type": "code",
   "execution_count": 13,
   "metadata": {
    "collapsed": false
   },
   "outputs": [
    {
     "name": "stdout",
     "output_type": "stream",
     "text": [
      "a same so last pretty first too other only the one strange great\n",
      "entire white rather as next queer is\n"
     ]
    }
   ],
   "source": [
    "#start of NLTK! Where people use such words in this position.\n",
    "text1.similar(\"very\")"
   ]
  },
  {
   "cell_type": "code",
   "execution_count": 21,
   "metadata": {
    "collapsed": false
   },
   "outputs": [
    {
     "name": "stdout",
     "output_type": "stream",
     "text": [
      "Displaying 25 of 103 matches:\n",
      "ers . The son , a steady respectable young man , was amply provided for by the \n",
      " them . He was not an ill - disposed young man , unless to be rather cold heart\n",
      "de amiable himself ; for he was very young when he married , and very fond of h\n",
      "- a very comfortable fortune for any young woman .\" \" To be sure it is ; and , \n",
      "od , a gentleman - like and pleasing young man , who was introduced to their ac\n",
      " all her established ideas of what a young man ' s address ought to be , was no\n",
      "y . But yet -- he is not the kind of young man -- there is something wanting --\n",
      "ll , and of the danger attending any young woman who attempted to DRAW HIM IN ;\n",
      "anhill , but it was too long for his young cousins to remember him . His counte\n",
      "lighted in collecting about him more young people than his house would hold , a\n",
      "e balls were numerous enough for any young lady who was not suffering under the\n",
      " at Barton . The Miss Dashwoods were young , pretty , and unaffected . It was e\n",
      " to the drawing room repeated to the young ladies the concern which the same su\n",
      "e , at being unable to get any smart young men to meet them . They would see , \n",
      " the park , but who was neither very young nor very gay . He hoped they would a\n",
      "erful agreeable woman , he hoped the young ladies would not find it so very dul\n",
      "ery dull as they might imagine . The young ladies , as well as their mother , w\n",
      "of projecting weddings among all the young people of her acquaintance . She was\n",
      "the blushes and the vanity of many a young lady by insinuations of her power ov\n",
      "nsinuations of her power over such a young man ; and this kind of discernment e\n",
      "e every year .\" \" And what sort of a young man is he ?\" \" As good a kind of fel\n",
      "t you say , that he is a respectable young man , and one whose acquaintance wil\n",
      "That is what I like ; that is what a young man ought to be . Whatever be his pu\n",
      "th so rapturous a delight , that any young man of five and twenty must have bee\n",
      "been less irksome . Willoughby was a young man of good abilities , quick imagin\n"
     ]
    }
   ],
   "source": [
    "text2.concordance('unaffected ')"
   ]
  },
  {
   "cell_type": "code",
   "execution_count": 22,
   "metadata": {
    "collapsed": false
   },
   "outputs": [
    {
     "name": "stdout",
     "output_type": "stream",
     "text": [
      "Displaying 5 of 5 matches:\n",
      "was particularly evident , for the gentlemen HAD supplied the discourse with so\n",
      "ashwood on his following the other gentlemen into the room , were officiously h\n",
      "very thing but her laugh . The two gentlemen arrived the next day to a very lat\n",
      "ould be needless to say , that the gentlemen advanced in the good opinion of ea\n",
      " only three or four days , the two gentlemen quitted Barton together .-- They w\n"
     ]
    }
   ],
   "source": [
    "text2.concordance('gentlemen')"
   ]
  },
  {
   "cell_type": "code",
   "execution_count": 24,
   "metadata": {
    "collapsed": false
   },
   "outputs": [
    {
     "name": "stdout",
     "output_type": "stream",
     "text": [
      "were_,\n"
     ]
    }
   ],
   "source": [
    "#find common relationship between thought and himself\n",
    "text2.common_contexts(['young','pretty'])"
   ]
  },
  {
   "cell_type": "code",
   "execution_count": 28,
   "metadata": {
    "collapsed": false
   },
   "outputs": [],
   "source": [
    "text4.dispersion_plot([\"citizens\", \"democracy\", \"freedom\", \"duties\", \"America\"])"
   ]
  },
  {
   "cell_type": "code",
   "execution_count": 29,
   "metadata": {
    "collapsed": false
   },
   "outputs": [
    {
     "ename": "AttributeError",
     "evalue": "'Text' object has no attribute 'generate'",
     "output_type": "error",
     "traceback": [
      "\u001b[1;31m---------------------------------------------------------------------------\u001b[0m",
      "\u001b[1;31mAttributeError\u001b[0m                            Traceback (most recent call last)",
      "\u001b[1;32m<ipython-input-29-e0816ba18b61>\u001b[0m in \u001b[0;36m<module>\u001b[1;34m()\u001b[0m\n\u001b[1;32m----> 1\u001b[1;33m \u001b[0mtext3\u001b[0m\u001b[1;33m.\u001b[0m\u001b[0mgenerate\u001b[0m\u001b[1;33m(\u001b[0m\u001b[1;33m)\u001b[0m\u001b[1;33m\u001b[0m\u001b[0m\n\u001b[0m",
      "\u001b[1;31mAttributeError\u001b[0m: 'Text' object has no attribute 'generate'"
     ]
    }
   ],
   "source": [
    "text3.generate()"
   ]
  },
  {
   "cell_type": "code",
   "execution_count": null,
   "metadata": {
    "collapsed": true
   },
   "outputs": [],
   "source": []
  },
  {
   "cell_type": "code",
   "execution_count": null,
   "metadata": {
    "collapsed": true
   },
   "outputs": [],
   "source": []
  },
  {
   "cell_type": "code",
   "execution_count": null,
   "metadata": {
    "collapsed": true
   },
   "outputs": [],
   "source": [
    "123\n",
    "\n",
    "12344"
   ]
  }
 ],
 "metadata": {
  "kernelspec": {
   "display_name": "Python 3",
   "language": "python",
   "name": "python3"
  },
  "language_info": {
   "codemirror_mode": {
    "name": "ipython",
    "version": 3
   },
   "file_extension": ".py",
   "mimetype": "text/x-python",
   "name": "python",
   "nbconvert_exporter": "python",
   "pygments_lexer": "ipython3",
   "version": "3.5.2"
  }
 },
 "nbformat": 4,
 "nbformat_minor": 0
}
